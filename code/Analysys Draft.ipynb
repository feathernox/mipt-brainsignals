{
 "cells": [
  {
   "cell_type": "code",
   "execution_count": 1,
   "metadata": {
    "collapsed": false,
    "deletable": true,
    "editable": true
   },
   "outputs": [
    {
     "name": "stdout",
     "output_type": "stream",
     "text": [
      "<function condition_number_xtx at 0x7f1c540d6048>\n"
     ]
    }
   ],
   "source": [
    "from metrics import *\n",
    "from bootstrap import *\n",
    "from metric_classes import *"
   ]
  },
  {
   "cell_type": "code",
   "execution_count": 2,
   "metadata": {
    "collapsed": false,
    "deletable": true,
    "editable": true
   },
   "outputs": [
    {
     "data": {
      "text/plain": [
       "\"Mallow's Cp\""
      ]
     },
     "execution_count": 2,
     "metadata": {},
     "output_type": "execute_result"
    }
   ],
   "source": [
    "str(Cp())"
   ]
  },
  {
   "cell_type": "code",
   "execution_count": 3,
   "metadata": {
    "collapsed": false,
    "deletable": true,
    "editable": true
   },
   "outputs": [],
   "source": [
    "c = Condition_Number()\n",
    "#c.evaluate(model)"
   ]
  },
  {
   "cell_type": "code",
   "execution_count": 27,
   "metadata": {
    "collapsed": false,
    "deletable": true,
    "editable": true
   },
   "outputs": [],
   "source": [
    "class EvaluateInfo():\n",
    "    def __init__(self, model, metrics = [], comparisons = [], characteristics = []):\n",
    "        self.model = model\n",
    "        self.characteristics = characteristics # characteristic of the fitted model itself\n",
    "        self.metrics = metrics # compares y and y_pred\n",
    "        self.comparisons = comparisons #compares y, y_pred, y_pred_with_reduced_features\n",
    "        \n",
    "        all_names = [str(el) for el in metrics] +\\\n",
    "                     [str(el) for el in comparisons] +\\\n",
    "                     [str(el) for el in characteristics]\n",
    "        \n",
    "        self.names = dict(zip(all_names, [i for i in range(len(all_names))]))\n",
    "        print(self.names)\n",
    "        \n",
    "    def _calcQuality(self):     \n",
    "        model = self.model\n",
    "        for (m, mask) in enumerate(self.masks):\n",
    "            reduced_X_test = self.X_test[:, mask]\n",
    "            model.fit(self.X_train.T[mask].T, self.y_train)\n",
    "            for (i, metric) in enumerate(self.metrics):\n",
    "                self.quality[i][m] = metric.evaluate(model, reduced_X_test, self.y_test)\n",
    "\n",
    "            for (i, comp) in enumerate(self.comparisons):\n",
    "                ind = i + len(self.metrics)\n",
    "                self.quality[ind][m] = comp.evaluate(self.full, model, self.X_test,\n",
    "                                                                 reduced_X_test, self.y_test)\n",
    "            for (i, char) in enumerate(self.characteristics):\n",
    "                ind = i + len(self.metrics) + len(self.comparisons)\n",
    "                self.quality[ind][m] = char.evaluate(model)\n",
    "        \n",
    "    def fit(self, X_train, y_train, X_test, y_test, masks = None, n_samples=20, len_sample=None):\n",
    "        if masks is None:\n",
    "            masks = np.ones((1, X.shape[1]), dtype=bool)\n",
    "        masks = np.array(masks, dtype=bool)\n",
    "        if len(masks.shape) == 1:\n",
    "            masks = masks.reshape((1, len(masks.shape)))\n",
    "        self.masks = masks\n",
    "        self.len_sample = len_sample\n",
    "        \n",
    "        self.n_samples = n_samples\n",
    "\n",
    "        self.X_train = X_train\n",
    "        self.y_train = y_train\n",
    "\n",
    "        self.X_test = X_test\n",
    "        self.y_test = y_test\n",
    "        \n",
    "        self.full = deepcopy(self.model.fit(self.X_train, self.y_train))\n",
    "        \n",
    "        self.result = np.zeros((len(self.metrics) + len(self.comparisons) \n",
    "                                + len(self.characteristics), len(self.masks), self.n_samples))\n",
    "        \n",
    "        self.quality = np.zeros((len(self.metrics) + len(self.comparisons) \n",
    "                                + len(self.characteristics), len(self.masks)))\n",
    "        self._calcQuality()\n",
    "        \n",
    "    \n",
    "    \n",
    "    def get_quality(self):\n",
    "        return self.quality\n",
    "    \n",
    "    def get_result(self):\n",
    "        return self.result\n",
    "    def _get_mapped(self, array):\n",
    "        return dict(zip(self.names.keys(), list(array)))\n",
    "    \n",
    "    def get_mapped_quality(self):\n",
    "        return self._get_mapped(self.quality)\n",
    "    \n",
    "    def get_mapped_result(self):\n",
    "        return self._get_mapped(self.result)\n",
    "    \n",
    "    def _by_name(self, name, array):\n",
    "        if name in self.names:\n",
    "            return array[self.names[name]]\n",
    "        else:\n",
    "            raise NameError('Invalid argument')\n",
    "        \n",
    "    def quality_by_name(self, name):\n",
    "        return self._by_name(name, self.quality)\n",
    "            \n",
    "    def result_by_name(self, name):\n",
    "        return self._by_name(name, self.result)\n",
    "            \n",
    "    "
   ]
  },
  {
   "cell_type": "code",
   "execution_count": 28,
   "metadata": {
    "collapsed": false,
    "deletable": true,
    "editable": true
   },
   "outputs": [],
   "source": [
    "from copy import deepcopy\n",
    "class EvaluateStaticInfo(EvaluateInfo):\n",
    "    def __init__(self, model, metrics = [], comparisons = []):\n",
    "        super(EvaluateStaticInfo, self).__init__(model, metrics, comparisons, [])\n",
    "    \n",
    "    def __eval(self):\n",
    "        model = self.model\n",
    "        \n",
    "        sample_X, sample_y = self.boot.values()\n",
    "        \n",
    "        self.models = []\n",
    "        for mask in self.masks:\n",
    "            self.models += [deepcopy(model.fit(self.X_train[:, mask], self.y_train))]\n",
    "        \n",
    "        for (m, mask) in enumerate(self.masks):\n",
    "            for it in range(self.n_samples):\n",
    "                reduced_X_cur = (sample_X[it].T[mask]).T\n",
    "                for (i, metric) in enumerate(self.metrics):\n",
    "                    self.result[i][m][it] = metric.evaluate(self.models[m], reduced_X_cur, sample_y[it])\n",
    "                for(i, comp) in enumerate(self.comparisons):\n",
    "                    ind = i + len(self.metrics)\n",
    "                    self.result[ind][m][it] = comp.evaluate(self.full, self.models[m], sample_X[it], \n",
    "                                                              reduced_X_cur, sample_y[it])\n",
    "\n",
    "    def fit(self, X_train, y_train, X_test, y_test, masks = None, n_samples=20, len_sample=None):\n",
    "        super(EvaluateStaticInfo, self).fit(X_train, y_train, X_test, y_test, masks, n_samples, len_sample)\n",
    "        if self.len_sample is None:\n",
    "            self.len_sample = len(X_test)\n",
    "        self.boot = Bootstrap(self.X_test, self.y_test, self.n_samples, self.len_sample)\n",
    "        self.__eval()\n",
    "        "
   ]
  },
  {
   "cell_type": "code",
   "execution_count": 50,
   "metadata": {
    "collapsed": false,
    "deletable": true,
    "editable": true
   },
   "outputs": [],
   "source": [
    "from copy import deepcopy\n",
    "class EvaluateDynamicInfo(EvaluateInfo):\n",
    "    def __init__(self, model, metrics = [], comparisons = [], characteristics = []):\n",
    "        super(EvaluateDynamicInfo, self).__init__(model, metrics, comparisons, characteristics)\n",
    "    \n",
    "    def __eval(self):\n",
    "        model = self.model\n",
    "        \n",
    "        sample_X, sample_y = self.boot.values()\n",
    "            \n",
    "        for (m, mask) in enumerate(self.masks):\n",
    "            reduced_X_test = (self.X_test.T[mask]).T\n",
    "            for it in range(self.n_samples):\n",
    "                model.fit((sample_X[it].T[mask]).T, sample_y[it])\n",
    "                for (i, metric) in enumerate(self.metrics):\n",
    "                    #print(i)\n",
    "                    self.result[i][m][it] = metric.evaluate(model, reduced_X_test, self.y_test)\n",
    "                \n",
    "                for (i, comp) in enumerate(self.comparisons):\n",
    "                    ind = i + len(self.metrics) \n",
    "                    #print(i)\n",
    "                    self.result[ind][m][it] = comp.evaluate(self.full, model, self.X_test,\n",
    "                                                              reduced_X_test, self.y_test)\n",
    "                for (i, char) in enumerate(self.characteristics):\n",
    "                    ind = i + len(self.metrics) + len(self.comparisons)\n",
    "                    #print(i)\n",
    "                    self.result[ind][m][it] = char.evaluate(model)\n",
    "\n",
    "                \n",
    "                \n",
    "\n",
    "    def fit(self, X_train, y_train, X_test, y_test, masks = None, n_samples=20, len_sample=None):\n",
    "        super(EvaluateDynamicInfo, self).fit(X_train, y_train, X_test, y_test, masks, n_samples, len_sample)\n",
    "        if self.len_sample is None:\n",
    "            self.len_sample = len(X_test)\n",
    "        self.boot = Bootstrap(self.X_test, self.y_test, self.n_samples, self.len_sample)\n",
    "        self.__eval()\n",
    "    "
   ]
  },
  {
   "cell_type": "code",
   "execution_count": 51,
   "metadata": {
    "collapsed": true,
    "deletable": true,
    "editable": true
   },
   "outputs": [],
   "source": [
    "from sklearn.linear_model import LinearRegression\n",
    "mo = LinearRegression()"
   ]
  },
  {
   "cell_type": "code",
   "execution_count": 52,
   "metadata": {
    "collapsed": false,
    "deletable": true,
    "editable": true
   },
   "outputs": [
    {
     "name": "stdout",
     "output_type": "stream",
     "text": [
      "[ 1.  0.  0.  0.  1.]\n"
     ]
    }
   ],
   "source": [
    "import scipy.stats as sps\n",
    "\n",
    "XX = sps.norm.rvs(size=(10, 5))\n",
    "X2 = sps.norm.rvs(size=(10, 5))\n",
    "zz = sps.uniform.rvs(size=(5, 3))\n",
    "yy = XX @ zz + sps.norm.rvs(scale=0.1, size=(10, 3))\n",
    "y2 = X2 @ zz + sps.norm.rvs(scale=0.1, size=(10, 3))\n",
    "maskk = np.ones(XX.shape[1])\n",
    "maskk[2]=0\n",
    "maskk[1] = 0\n",
    "maskk[3] = 0\n",
    "print(maskk)\n",
    "\n",
    "metric1 = RSS()\n",
    "metric2 = Adjusted_Determination_Coefficient()\n",
    "metric3 = Determination_Coefficient()\n",
    "metric4 = VIF()\n",
    "metric5 = BIC()\n",
    "char1 = Condition_Number()\n",
    "comp1 = Cp()"
   ]
  },
  {
   "cell_type": "code",
   "execution_count": 53,
   "metadata": {
    "collapsed": false,
    "deletable": true,
    "editable": true
   },
   "outputs": [
    {
     "name": "stdout",
     "output_type": "stream",
     "text": [
      "{'Adj Det Coef': 1, \"Mallow's Cp\": 5, 'Det Coef': 2, 'RSS': 0, 'VIF': 3, 'BIC': 4}\n"
     ]
    }
   ],
   "source": [
    "info = EvaluateDynamicInfo(mo, [metric1, metric2, metric3, metric4, metric5],\n",
    "                           [comp1])#, [char1])"
   ]
  },
  {
   "cell_type": "code",
   "execution_count": 54,
   "metadata": {
    "collapsed": false,
    "deletable": true,
    "editable": true
   },
   "outputs": [],
   "source": [
    "info.fit(XX, yy, X2, y2, masks=[np.ones(len(XX.T)), maskk])"
   ]
  },
  {
   "cell_type": "code",
   "execution_count": 55,
   "metadata": {
    "collapsed": false,
    "deletable": true,
    "editable": true
   },
   "outputs": [
    {
     "data": {
      "text/plain": [
       "array([[[  5.83169687e+00,   3.90827961e+00,   2.40073626e+00,\n",
       "           5.24101326e+00,   2.84350862e-01,   7.63214112e-01,\n",
       "           1.63806976e+00,   1.31195148e-01,   4.13042515e-01,\n",
       "           6.39928177e+00,   3.36361780e+00,   2.57514549e-01,\n",
       "           2.62735282e+01,   9.68538040e-02,   8.59152430e-01,\n",
       "           1.65832923e-01,   1.26038410e-01,   4.13430726e+00,\n",
       "           6.89977831e-01,   2.65776272e-01],\n",
       "        [  2.13529473e+01,   4.97153127e+01,   1.80775265e+02,\n",
       "           2.00827438e+01,   2.27988409e+01,   1.79851162e+01,\n",
       "           2.13808536e+01,   1.70478065e+01,   1.83013894e+01,\n",
       "           3.38263252e+01,   4.39351852e+01,   1.94861223e+01,\n",
       "           2.60001972e+01,   1.68744087e+01,   2.97064027e+01,\n",
       "           1.93756006e+01,   1.80588326e+01,   1.99846142e+01,\n",
       "           2.29526241e+01,   2.02492978e+01]],\n",
       "\n",
       "       [[  8.13140885e-01,   8.74770983e-01,   9.23075656e-01,\n",
       "           8.32067557e-01,   9.90888835e-01,   9.75545109e-01,\n",
       "           9.47513001e-01,   9.95796248e-01,   9.86765300e-01,\n",
       "           7.94954341e-01,   8.92223025e-01,   9.91748724e-01,\n",
       "           1.58144132e-01,   9.96896612e-01,   9.72471055e-01,\n",
       "           9.94686385e-01,   9.95961480e-01,   8.67528609e-01,\n",
       "           9.77891744e-01,   9.91484002e-01],\n",
       "        [  3.15809289e-01,  -5.92977060e-01,  -4.79239743e+00,\n",
       "           3.56509123e-01,   2.69479993e-01,   4.23721266e-01,\n",
       "           3.14915114e-01,   4.53754525e-01,   4.13587245e-01,\n",
       "          -8.38624378e-02,  -4.07770329e-01,   3.75626056e-01,\n",
       "           1.66902198e-01,   4.59310533e-01,   4.81480357e-02,\n",
       "           3.79167393e-01,   4.21359245e-01,   3.59653391e-01,\n",
       "           2.64552476e-01,   3.51172402e-01]],\n",
       "\n",
       "       [[  7.59752566e-01,   8.38991263e-01,   9.01097273e-01,\n",
       "           7.84086859e-01,   9.88285645e-01,   9.68557997e-01,\n",
       "           9.32516716e-01,   9.94595176e-01,   9.82983957e-01,\n",
       "           7.36369867e-01,   8.61429604e-01,   9.89391217e-01,\n",
       "          -8.23861159e-02,   9.96009930e-01,   9.64605642e-01,\n",
       "           9.93168209e-01,   9.94807617e-01,   8.29679640e-01,\n",
       "           9.71575100e-01,   9.89050860e-01],\n",
       "        [  1.20326229e-01,  -1.04811336e+00,  -6.44736813e+00,\n",
       "           1.72654587e-01,   6.07599908e-02,   2.59070199e-01,\n",
       "           1.19176575e-01,   2.97684389e-01,   2.46040743e-01,\n",
       "          -3.93537420e-01,  -8.09990422e-01,   1.97233501e-01,\n",
       "          -7.11257458e-02,   3.04827828e-01,  -2.23809668e-01,\n",
       "           2.01786648e-01,   2.56033315e-01,   1.76697217e-01,\n",
       "           5.44246122e-02,   1.65793088e-01]],\n",
       "\n",
       "       [[  5.35162547e+00,   7.98536969e+00,   1.29997859e+01,\n",
       "           5.95477553e+00,   1.09755452e+02,   4.08916149e+01,\n",
       "           1.90523372e+01,   2.37882711e+02,   7.55589471e+01,\n",
       "           4.87696255e+00,   9.27841966e+00,   1.21193376e+02,\n",
       "           1.18785179e+00,   3.22228516e+02,   3.63254022e+01,\n",
       "           1.88195788e+02,   2.47615449e+02,   7.54879973e+00,\n",
       "           4.52319714e+01,   1.17426049e+02],\n",
       "        [  1.46158079e+00,   6.27755431e-01,   1.72640088e-01,\n",
       "           1.55402359e+00,   1.36888790e+00,   1.73527139e+00,\n",
       "           1.45967313e+00,   1.83067878e+00,   1.70528351e+00,\n",
       "           9.22626309e-01,   7.10343143e-01,   1.60160431e+00,\n",
       "           1.20033926e+00,   1.84949044e+00,   1.05058353e+00,\n",
       "           1.61074014e+00,   1.72818798e+00,   1.56165424e+00,\n",
       "           1.35971632e+00,   1.54124147e+00]],\n",
       "\n",
       "       [[  1.73446223e+01,   1.54212051e+01,   1.39136617e+01,\n",
       "           1.67539387e+01,   1.17972763e+01,   1.22761396e+01,\n",
       "           1.31509952e+01,   1.16441206e+01,   1.19259680e+01,\n",
       "           1.79122072e+01,   1.48765433e+01,   1.17704400e+01,\n",
       "           3.77864537e+01,   1.16097793e+01,   1.23720779e+01,\n",
       "           1.16787584e+01,   1.16389639e+01,   1.56472327e+01,\n",
       "           1.22029033e+01,   1.17787017e+01],\n",
       "        [  2.59581174e+01,   5.43204829e+01,   1.85380435e+02,\n",
       "           2.46879140e+01,   2.74040111e+01,   2.25902863e+01,\n",
       "           2.59860238e+01,   2.16529766e+01,   2.29065596e+01,\n",
       "           3.84314954e+01,   4.85403554e+01,   2.40912925e+01,\n",
       "           3.06053674e+01,   2.14795789e+01,   3.43115729e+01,\n",
       "           2.39807707e+01,   2.26640028e+01,   2.45897843e+01,\n",
       "           2.75577943e+01,   2.48544680e+01]],\n",
       "\n",
       "       [[  1.79614473e+00,   1.20373812e+00,   7.39419396e-01,\n",
       "           1.61421599e+00,   8.75791922e-02,   2.35067602e-01,\n",
       "           5.04520456e-01,   4.04077028e-02,   1.27215826e-01,\n",
       "           1.97095913e+00,   1.03598395e+00,   7.93136902e-02,\n",
       "           8.09216600e+00,   2.98306742e-02,   2.64616310e-01,\n",
       "           5.10760308e-02,   3.88194433e-02,   1.27335394e+00,\n",
       "           2.12511053e-01,   8.18582754e-02],\n",
       "        [  5.76642176e-01,   9.31216362e+00,   4.96782263e+01,\n",
       "           1.85423410e-01,   1.02197298e+00,  -4.60639459e-01,\n",
       "           5.85237248e-01,  -7.49327968e-01,  -3.63228267e-01,\n",
       "           4.41840426e+00,   7.53190209e+00,   1.66583043e-03,\n",
       "           2.00798090e+00,  -8.02733950e-01,   3.14948080e+00,\n",
       "          -3.23745366e-02,  -4.37935019e-01,   1.55199784e-01,\n",
       "           1.06933772e+00,   2.36721544e-01]]])"
      ]
     },
     "execution_count": 55,
     "metadata": {},
     "output_type": "execute_result"
    }
   ],
   "source": [
    "info.get_result()"
   ]
  },
  {
   "cell_type": "code",
   "execution_count": 56,
   "metadata": {
    "collapsed": false,
    "deletable": true,
    "editable": true
   },
   "outputs": [
    {
     "data": {
      "text/plain": [
       "array([[  3.24678562,  52.53182276],\n",
       "       [  0.89596656,  -0.68322362],\n",
       "       [  0.86624272,  -1.16414465],\n",
       "       [  9.61229387,   0.59409813],\n",
       "       [ 14.75971109,  57.13699294],\n",
       "       [  1.        ,  10.17964007]])"
      ]
     },
     "execution_count": 56,
     "metadata": {},
     "output_type": "execute_result"
    }
   ],
   "source": [
    "info.get_quality()"
   ]
  },
  {
   "cell_type": "code",
   "execution_count": 57,
   "metadata": {
    "collapsed": false,
    "deletable": true,
    "editable": true
   },
   "outputs": [
    {
     "data": {
      "text/plain": [
       "array([[  1.79614473e+00,   1.20373812e+00,   7.39419396e-01,\n",
       "          1.61421599e+00,   8.75791922e-02,   2.35067602e-01,\n",
       "          5.04520456e-01,   4.04077028e-02,   1.27215826e-01,\n",
       "          1.97095913e+00,   1.03598395e+00,   7.93136902e-02,\n",
       "          8.09216600e+00,   2.98306742e-02,   2.64616310e-01,\n",
       "          5.10760308e-02,   3.88194433e-02,   1.27335394e+00,\n",
       "          2.12511053e-01,   8.18582754e-02],\n",
       "       [  5.76642176e-01,   9.31216362e+00,   4.96782263e+01,\n",
       "          1.85423410e-01,   1.02197298e+00,  -4.60639459e-01,\n",
       "          5.85237248e-01,  -7.49327968e-01,  -3.63228267e-01,\n",
       "          4.41840426e+00,   7.53190209e+00,   1.66583043e-03,\n",
       "          2.00798090e+00,  -8.02733950e-01,   3.14948080e+00,\n",
       "         -3.23745366e-02,  -4.37935019e-01,   1.55199784e-01,\n",
       "          1.06933772e+00,   2.36721544e-01]])"
      ]
     },
     "execution_count": 57,
     "metadata": {},
     "output_type": "execute_result"
    }
   ],
   "source": [
    "info.result_by_name(\"Mallow's Cp\")"
   ]
  },
  {
   "cell_type": "code",
   "execution_count": 58,
   "metadata": {
    "collapsed": false,
    "deletable": true,
    "editable": true
   },
   "outputs": [
    {
     "data": {
      "text/plain": [
       "{'Adj Det Coef': array([[  5.83169687e+00,   3.90827961e+00,   2.40073626e+00,\n",
       "           5.24101326e+00,   2.84350862e-01,   7.63214112e-01,\n",
       "           1.63806976e+00,   1.31195148e-01,   4.13042515e-01,\n",
       "           6.39928177e+00,   3.36361780e+00,   2.57514549e-01,\n",
       "           2.62735282e+01,   9.68538040e-02,   8.59152430e-01,\n",
       "           1.65832923e-01,   1.26038410e-01,   4.13430726e+00,\n",
       "           6.89977831e-01,   2.65776272e-01],\n",
       "        [  2.13529473e+01,   4.97153127e+01,   1.80775265e+02,\n",
       "           2.00827438e+01,   2.27988409e+01,   1.79851162e+01,\n",
       "           2.13808536e+01,   1.70478065e+01,   1.83013894e+01,\n",
       "           3.38263252e+01,   4.39351852e+01,   1.94861223e+01,\n",
       "           2.60001972e+01,   1.68744087e+01,   2.97064027e+01,\n",
       "           1.93756006e+01,   1.80588326e+01,   1.99846142e+01,\n",
       "           2.29526241e+01,   2.02492978e+01]]),\n",
       " 'BIC': array([[  1.79614473e+00,   1.20373812e+00,   7.39419396e-01,\n",
       "           1.61421599e+00,   8.75791922e-02,   2.35067602e-01,\n",
       "           5.04520456e-01,   4.04077028e-02,   1.27215826e-01,\n",
       "           1.97095913e+00,   1.03598395e+00,   7.93136902e-02,\n",
       "           8.09216600e+00,   2.98306742e-02,   2.64616310e-01,\n",
       "           5.10760308e-02,   3.88194433e-02,   1.27335394e+00,\n",
       "           2.12511053e-01,   8.18582754e-02],\n",
       "        [  5.76642176e-01,   9.31216362e+00,   4.96782263e+01,\n",
       "           1.85423410e-01,   1.02197298e+00,  -4.60639459e-01,\n",
       "           5.85237248e-01,  -7.49327968e-01,  -3.63228267e-01,\n",
       "           4.41840426e+00,   7.53190209e+00,   1.66583043e-03,\n",
       "           2.00798090e+00,  -8.02733950e-01,   3.14948080e+00,\n",
       "          -3.23745366e-02,  -4.37935019e-01,   1.55199784e-01,\n",
       "           1.06933772e+00,   2.36721544e-01]]),\n",
       " 'Det Coef': array([[ 0.75975257,  0.83899126,  0.90109727,  0.78408686,  0.98828565,\n",
       "          0.968558  ,  0.93251672,  0.99459518,  0.98298396,  0.73636987,\n",
       "          0.8614296 ,  0.98939122, -0.08238612,  0.99600993,  0.96460564,\n",
       "          0.99316821,  0.99480762,  0.82967964,  0.9715751 ,  0.98905086],\n",
       "        [ 0.12032623, -1.04811336, -6.44736813,  0.17265459,  0.06075999,\n",
       "          0.2590702 ,  0.11917658,  0.29768439,  0.24604074, -0.39353742,\n",
       "         -0.80999042,  0.1972335 , -0.07112575,  0.30482783, -0.22380967,\n",
       "          0.20178665,  0.25603331,  0.17669722,  0.05442461,  0.16579309]]),\n",
       " \"Mallow's Cp\": array([[ 0.81314088,  0.87477098,  0.92307566,  0.83206756,  0.99088884,\n",
       "          0.97554511,  0.947513  ,  0.99579625,  0.9867653 ,  0.79495434,\n",
       "          0.89222303,  0.99174872,  0.15814413,  0.99689661,  0.97247105,\n",
       "          0.99468638,  0.99596148,  0.86752861,  0.97789174,  0.991484  ],\n",
       "        [ 0.31580929, -0.59297706, -4.79239743,  0.35650912,  0.26947999,\n",
       "          0.42372127,  0.31491511,  0.45375452,  0.41358724, -0.08386244,\n",
       "         -0.40777033,  0.37562606,  0.1669022 ,  0.45931053,  0.04814804,\n",
       "          0.37916739,  0.42135924,  0.35965339,  0.26455248,  0.3511724 ]]),\n",
       " 'RSS': array([[  5.35162547e+00,   7.98536969e+00,   1.29997859e+01,\n",
       "           5.95477553e+00,   1.09755452e+02,   4.08916149e+01,\n",
       "           1.90523372e+01,   2.37882711e+02,   7.55589471e+01,\n",
       "           4.87696255e+00,   9.27841966e+00,   1.21193376e+02,\n",
       "           1.18785179e+00,   3.22228516e+02,   3.63254022e+01,\n",
       "           1.88195788e+02,   2.47615449e+02,   7.54879973e+00,\n",
       "           4.52319714e+01,   1.17426049e+02],\n",
       "        [  1.46158079e+00,   6.27755431e-01,   1.72640088e-01,\n",
       "           1.55402359e+00,   1.36888790e+00,   1.73527139e+00,\n",
       "           1.45967313e+00,   1.83067878e+00,   1.70528351e+00,\n",
       "           9.22626309e-01,   7.10343143e-01,   1.60160431e+00,\n",
       "           1.20033926e+00,   1.84949044e+00,   1.05058353e+00,\n",
       "           1.61074014e+00,   1.72818798e+00,   1.56165424e+00,\n",
       "           1.35971632e+00,   1.54124147e+00]]),\n",
       " 'VIF': array([[  17.34462233,   15.42120507,   13.91366173,   16.75393873,\n",
       "           11.79727633,   12.27613958,   13.15099523,   11.64412061,\n",
       "           11.92596798,   17.91220724,   14.87654326,   11.77044001,\n",
       "           37.78645368,   11.60977927,   12.37207789,   11.67875839,\n",
       "           11.63896388,   15.64723272,   12.2029033 ,   11.77870174],\n",
       "        [  25.95811745,   54.32048288,  185.38043493,   24.68791398,\n",
       "           27.40401111,   22.59028635,   25.9860238 ,   21.65297665,\n",
       "           22.90655961,   38.43149536,   48.54035535,   24.09129252,\n",
       "           30.60536742,   21.47957887,   34.31157289,   23.98077074,\n",
       "           22.6640028 ,   24.58978435,   27.55779426,   24.85446803]])}"
      ]
     },
     "execution_count": 58,
     "metadata": {},
     "output_type": "execute_result"
    }
   ],
   "source": [
    "info.get_mapped_result()"
   ]
  },
  {
   "cell_type": "code",
   "execution_count": null,
   "metadata": {
    "collapsed": true,
    "deletable": true,
    "editable": true
   },
   "outputs": [],
   "source": []
  },
  {
   "cell_type": "code",
   "execution_count": null,
   "metadata": {
    "collapsed": true,
    "deletable": true,
    "editable": true
   },
   "outputs": [],
   "source": []
  },
  {
   "cell_type": "code",
   "execution_count": null,
   "metadata": {
    "collapsed": true
   },
   "outputs": [],
   "source": []
  }
 ],
 "metadata": {
  "kernelspec": {
   "display_name": "Python 3",
   "language": "python",
   "name": "python3"
  },
  "language_info": {
   "codemirror_mode": {
    "name": "ipython",
    "version": 3
   },
   "file_extension": ".py",
   "mimetype": "text/x-python",
   "name": "python",
   "nbconvert_exporter": "python",
   "pygments_lexer": "ipython3",
   "version": "3.5.3"
  }
 },
 "nbformat": 4,
 "nbformat_minor": 2
}
