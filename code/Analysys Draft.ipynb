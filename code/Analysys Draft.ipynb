{
 "cells": [
  {
   "cell_type": "code",
   "execution_count": 1,
   "metadata": {
    "collapsed": false,
    "deletable": true,
    "editable": true
   },
   "outputs": [
    {
     "name": "stdout",
     "output_type": "stream",
     "text": [
      "<function condition_number_xtx at 0x7f1c540d6048>\n"
     ]
    }
   ],
   "source": [
    "from metrics import *\n",
    "from bootstrap import *\n",
    "from metric_classes import *"
   ]
  },
  {
   "cell_type": "code",
   "execution_count": 2,
   "metadata": {
    "collapsed": false,
    "deletable": true,
    "editable": true
   },
   "outputs": [
    {
     "data": {
      "text/plain": [
       "\"Mallow's Cp\""
      ]
     },
     "execution_count": 2,
     "metadata": {},
     "output_type": "execute_result"
    }
   ],
   "source": [
    "str(Cp())"
   ]
  },
  {
   "cell_type": "code",
   "execution_count": 3,
   "metadata": {
    "collapsed": false,
    "deletable": true,
    "editable": true
   },
   "outputs": [],
   "source": [
    "c = Condition_Number()\n",
    "#c.evaluate(model)"
   ]
  },
  {
   "cell_type": "code",
   "execution_count": 27,
   "metadata": {
    "collapsed": false,
    "deletable": true,
    "editable": true
   },
   "outputs": [],
   "source": [
    "class EvaluateInfo():\n",
    "    def __init__(self, model, metrics = [], comparisons = [], characteristics = []):\n",
    "        self.model = model\n",
    "        self.characteristics = characteristics # characteristic of the fitted model itself\n",
    "        self.metrics = metrics # compares y and y_pred\n",
    "        self.comparisons = comparisons #compares y, y_pred, y_pred_with_reduced_features\n",
    "        \n",
    "        all_names = [str(el) for el in metrics] +\\\n",
    "                     [str(el) for el in comparisons] +\\\n",
    "                     [str(el) for el in characteristics]\n",
    "        \n",
    "        self.names = dict(zip(all_names, [i for i in range(len(all_names))]))\n",
    "        print(self.names)\n",
    "        \n",
    "    def _calcQuality(self):     \n",
    "        model = self.model\n",
    "        for (m, mask) in enumerate(self.masks):\n",
    "            reduced_X_test = self.X_test[:, mask]\n",
    "            model.fit(self.X_train.T[mask].T, self.y_train)\n",
    "            for (i, metric) in enumerate(self.metrics):\n",
    "                self.quality[i][m] = metric.evaluate(model, reduced_X_test, self.y_test)\n",
    "\n",
    "            for (i, comp) in enumerate(self.comparisons):\n",
    "                ind = i + len(self.metrics)\n",
    "                self.quality[ind][m] = comp.evaluate(self.full, model, self.X_test,\n",
    "                                                                 reduced_X_test, self.y_test)\n",
    "            for (i, char) in enumerate(self.characteristics):\n",
    "                ind = i + len(self.metrics) + len(self.comparisons)\n",
    "                self.quality[ind][m] = char.evaluate(model)\n",
    "        \n",
    "    def fit(self, X_train, y_train, X_test, y_test, masks = None, n_samples=20, len_sample=None):\n",
    "        if masks is None:\n",
    "            masks = np.ones((1, X.shape[1]), dtype=bool)\n",
    "        masks = np.array(masks, dtype=bool)\n",
    "        if len(masks.shape) == 1:\n",
    "            masks = masks.reshape((1, len(masks.shape)))\n",
    "        self.masks = masks\n",
    "        self.len_sample = len_sample\n",
    "        \n",
    "        self.n_samples = n_samples\n",
    "\n",
    "        self.X_train = X_train\n",
    "        self.y_train = y_train\n",
    "\n",
    "        self.X_test = X_test\n",
    "        self.y_test = y_test\n",
    "        \n",
    "        self.full = deepcopy(self.model.fit(self.X_train, self.y_train))\n",
    "        \n",
    "        self.result = np.zeros((len(self.metrics) + len(self.comparisons) \n",
    "                                + len(self.characteristics), len(self.masks), self.n_samples))\n",
    "        \n",
    "        self.quality = np.zeros((len(self.metrics) + len(self.comparisons) \n",
    "                                + len(self.characteristics), len(self.masks)))\n",
    "        self._calcQuality()\n",
    "        \n",
    "    \n",
    "    \n",
    "    def get_quality(self):\n",
    "        return self.quality\n",
    "    \n",
    "    def get_result(self):\n",
    "        return self.result\n",
    "    def _get_mapped(self, array):\n",
    "        return dict(zip(self.names.keys(), list(array)))\n",
    "    \n",
    "    def get_mapped_quality(self):\n",
    "        return self._get_mapped(self.quality)\n",
    "    \n",
    "    def get_mapped_result(self):\n",
    "        return self._get_mapped(self.result)\n",
    "    \n",
    "    def _by_name(self, name, array):\n",
    "        if name in self.names:\n",
    "            return array[self.names[name]]\n",
    "        else:\n",
    "            raise NameError('Invalid argument')\n",
    "        \n",
    "    def quality_by_name(self, name):\n",
    "        return self._by_name(name, self.quality)\n",
    "            \n",
    "    def result_by_name(self, name):\n",
    "        return self._by_name(name, self.result)\n",
    "            \n",
    "    "
   ]
  },
  {
   "cell_type": "code",
   "execution_count": 28,
   "metadata": {
    "collapsed": false,
    "deletable": true,
    "editable": true
   },
   "outputs": [],
   "source": [
    "from copy import deepcopy\n",
    "class EvaluateStaticInfo(EvaluateInfo):\n",
    "    def __init__(self, model, metrics = [], comparisons = []):\n",
    "        super(EvaluateStaticInfo, self).__init__(model, metrics, comparisons, [])\n",
    "    \n",
    "    def __eval(self):\n",
    "        model = self.model\n",
    "        \n",
    "        sample_X, sample_y = self.boot.values()\n",
    "        \n",
    "        self.models = []\n",
    "        for mask in self.masks:\n",
    "            self.models += [deepcopy(model.fit(self.X_train[:, mask], self.y_train))]\n",
    "        \n",
    "        for (m, mask) in enumerate(self.masks):\n",
    "            for it in range(self.n_samples):\n",
    "                reduced_X_cur = (sample_X[it].T[mask]).T\n",
    "                for (i, metric) in enumerate(self.metrics):\n",
    "                    self.result[i][m][it] = metric.evaluate(self.models[m], reduced_X_cur, sample_y[it])\n",
    "                for(i, comp) in enumerate(self.comparisons):\n",
    "                    ind = i + len(self.metrics)\n",
    "                    self.result[ind][m][it] = comp.evaluate(self.full, self.models[m], sample_X[it], \n",
    "                                                              reduced_X_cur, sample_y[it])\n",
    "\n",
    "    def fit(self, X_train, y_train, X_test, y_test, masks = None, n_samples=20, len_sample=None):\n",
    "        super(EvaluateStaticInfo, self).fit(X_train, y_train, X_test, y_test, masks, n_samples, len_sample)\n",
    "        if self.len_sample is None:\n",
    "            self.len_sample = len(X_test)\n",
    "        self.boot = Bootstrap(self.X_test, self.y_test, self.n_samples, self.len_sample)\n",
    "        self.__eval()\n",
    "        "
   ]
  },
  {
   "cell_type": "code",
   "execution_count": 41,
   "metadata": {
    "collapsed": false,
    "deletable": true,
    "editable": true
   },
   "outputs": [],
   "source": [
    "from copy import deepcopy\n",
    "class EvaluateDynamicInfo(EvaluateInfo):\n",
    "    def __init__(self, model, metrics = [], comparisons = [], characteristics = []):\n",
    "        super(EvaluateDynamicInfo, self).__init__(model, metrics, comparisons, characteristics)\n",
    "    \n",
    "    def __eval(self):\n",
    "        model = self.model\n",
    "        \n",
    "        sample_X, sample_y = self.boot.values()\n",
    "            \n",
    "        for (m, mask) in enumerate(self.masks):\n",
    "            reduced_X_test = (self.X_test.T[mask]).T\n",
    "            for it in range(self.n_samples):\n",
    "                model.fit((sample_X[it].T[mask]).T, sample_y[it])\n",
    "                for (i, metric) in enumerate(self.metrics):\n",
    "                    #print(i)\n",
    "                    self.result[i][m][it] = metric.evaluate(model, reduced_X_test, self.y_test)\n",
    "                \n",
    "                for (i, comp) in enumerate(self.comparisons):\n",
    "                    ind = i + len(self.metrics) \n",
    "                    #print(i)\n",
    "                    self.result[ind][m][it] = comp.evaluate(self.full, model, self.X_test,\n",
    "                                                              reduced_X_test, self.y_test)\n",
    "                for (i, char) in enumerate(self.characteristics):\n",
    "                    ind = i + len(self.metrics) + len(self.comparisons)\n",
    "                    #print(i)\n",
    "                    self.result[ind][m][it] = char.evaluate(model)\n",
    "\n",
    "                \n",
    "                \n",
    "\n",
    "    def fit(self, X_train, y_train, X_test, y_test, masks = None, n_samples=20, len_sample=None):\n",
    "        super(EvaluateDynamicInfo, self).fit(X_train, y_train, X_test, y_test, masks, n_samples, len_sample)\n",
    "        if self.len_sample is None:\n",
    "            self.len_sample = len(X_test)\n",
    "        self.boot = Bootstrap(self.X_test, self.y_test, self.n_samples, self.len_sample)\n",
    "        self.__eval()\n",
    "    "
   ]
  },
  {
   "cell_type": "code",
   "execution_count": 42,
   "metadata": {
    "collapsed": true,
    "deletable": true,
    "editable": true
   },
   "outputs": [],
   "source": [
    "from sklearn.linear_model import LinearRegression\n",
    "mo = LinearRegression()"
   ]
  },
  {
   "cell_type": "code",
   "execution_count": 43,
   "metadata": {
    "collapsed": false,
    "deletable": true,
    "editable": true
   },
   "outputs": [
    {
     "name": "stdout",
     "output_type": "stream",
     "text": [
      "[ 1.  0.  0.  0.  1.]\n"
     ]
    }
   ],
   "source": [
    "import scipy.stats as sps\n",
    "\n",
    "XX = sps.norm.rvs(size=(10, 5))\n",
    "X2 = sps.norm.rvs(size=(10, 5))\n",
    "zz = sps.uniform.rvs(size=(5, 3))\n",
    "yy = XX @ zz + sps.norm.rvs(scale=0.1, size=(10, 3))\n",
    "y2 = X2 @ zz + sps.norm.rvs(scale=0.1, size=(10, 3))\n",
    "maskk = np.ones(XX.shape[1])\n",
    "maskk[2]=0\n",
    "maskk[1] = 0\n",
    "maskk[3] = 0\n",
    "print(maskk)\n",
    "\n",
    "metric1 = RSS()\n",
    "metric2 = Adjusted_Determination_Coefficient()\n",
    "metric3 = Determination_Coefficient()\n",
    "metric4 = VIF()\n",
    "metric5 = BIC()\n",
    "char1 = Condition_Number()\n",
    "comp1 = Cp()"
   ]
  },
  {
   "cell_type": "code",
   "execution_count": 44,
   "metadata": {
    "collapsed": false,
    "deletable": true,
    "editable": true
   },
   "outputs": [
    {
     "name": "stdout",
     "output_type": "stream",
     "text": [
      "{'Adj Det Coef': 1, \"Mallow's Cp\": 5, 'Det Coef': 2, 'RSS': 0, 'VIF': 3, 'BIC': 4}\n"
     ]
    }
   ],
   "source": [
    "info = EvaluateDynamicInfo(mo, [metric1, metric2, metric3, metric4, metric5],\n",
    "                           [comp1])#, [char1])"
   ]
  },
  {
   "cell_type": "code",
   "execution_count": 45,
   "metadata": {
    "collapsed": false,
    "deletable": true,
    "editable": true
   },
   "outputs": [],
   "source": [
    "info.fit(XX, yy, X2, y2, masks=[np.ones(len(XX.T)), maskk])"
   ]
  },
  {
   "cell_type": "code",
   "execution_count": 46,
   "metadata": {
    "collapsed": false,
    "deletable": true,
    "editable": true
   },
   "outputs": [
    {
     "data": {
      "text/plain": [
       "array([[[  2.56151786e-01,   1.87339522e-01,   1.29345312e-01,\n",
       "           4.74087355e-01,   3.12626804e+00,   1.50161789e+00,\n",
       "           6.62864679e+01,   1.63049500e-01,   1.17217541e-01,\n",
       "           9.47947895e-01,   1.02369264e+00,   1.93949082e-01,\n",
       "           1.05053845e+02,   1.54932808e+01,   1.50932009e+00,\n",
       "           5.73883204e-01,   7.68882913e-01,   6.94143258e-01,\n",
       "           7.37548218e-01,   3.58174232e-01],\n",
       "        [  1.79723933e+01,   1.48991675e+01,   1.48639541e+01,\n",
       "           1.60443712e+01,   1.47889163e+01,   4.66682332e+01,\n",
       "           1.04700625e+02,   1.44686337e+01,   1.40718230e+01,\n",
       "           1.80298138e+01,   3.54543243e+01,   1.57430972e+01,\n",
       "           1.72745406e+01,   1.22085738e+02,   2.45762260e+01,\n",
       "           1.43665416e+01,   1.51558977e+01,   1.53588505e+01,\n",
       "           1.44160628e+01,   1.49140891e+01]],\n",
       "\n",
       "       [[  9.92819700e-01,   9.94748606e-01,   9.96374267e-01,\n",
       "           9.86710656e-01,   9.12366251e-01,   9.57907510e-01,\n",
       "          -8.58104172e-01,   9.95429490e-01,   9.96714225e-01,\n",
       "           9.73427669e-01,   9.71304436e-01,   9.94563331e-01,\n",
       "          -1.94480899e+00,   5.65701258e-01,   9.57691607e-01,\n",
       "           9.83913236e-01,   9.78447116e-01,   9.80542175e-01,\n",
       "           9.79325472e-01,   9.89959866e-01],\n",
       "        [  4.96208199e-01,   5.82355099e-01,   5.83342181e-01,\n",
       "           5.50253408e-01,   5.85445599e-01,  -3.08177091e-01,\n",
       "          -1.93490775e+00,   5.94423575e-01,   6.05546746e-01,\n",
       "           4.94598621e-01,   6.16475852e-03,   5.58698546e-01,\n",
       "           5.15770007e-01,  -2.42223724e+00,   3.11093356e-01,\n",
       "           5.97285362e-01,   5.75158586e-01,   5.69469530e-01,\n",
       "           5.95897214e-01,   5.81936825e-01]],\n",
       "\n",
       "       [[  9.90768186e-01,   9.93248208e-01,   9.95338343e-01,\n",
       "           9.82913700e-01,   8.87328037e-01,   9.45881085e-01,\n",
       "          -1.38899108e+00,   9.94123630e-01,   9.95775432e-01,\n",
       "           9.65835575e-01,   9.63105704e-01,   9.93009997e-01,\n",
       "          -2.78618299e+00,   4.41615903e-01,   9.45603494e-01,\n",
       "           9.79317018e-01,   9.72289149e-01,   9.74982797e-01,\n",
       "           9.73418464e-01,   9.87091256e-01],\n",
       "        [  3.52267685e-01,   4.63027985e-01,   4.64297090e-01,\n",
       "           4.21754382e-01,   4.67001484e-01,  -6.81941974e-01,\n",
       "          -2.77345282e+00,   4.78544596e-01,   4.92845816e-01,\n",
       "           3.50198227e-01,  -2.77788168e-01,   4.32612417e-01,\n",
       "           3.77418581e-01,  -3.40001930e+00,   1.14262887e-01,\n",
       "           4.82224036e-01,   4.53775325e-01,   4.46460825e-01,\n",
       "           4.80439275e-01,   4.62490204e-01]],\n",
       "\n",
       "       [[  1.39269954e+02,   1.90425635e+02,   2.75806265e+02,\n",
       "           7.52482576e+01,   1.14111288e+01,   2.37572073e+01,\n",
       "           5.38182958e-01,   2.18793970e+02,   3.04342225e+02,\n",
       "           3.76331311e+01,   3.48485924e+01,   1.83936150e+02,\n",
       "           3.39580598e-01,   2.30256250e+00,   2.36359721e+01,\n",
       "           6.21629056e+01,   4.63975032e+01,   5.13932059e+01,\n",
       "           4.83686985e+01,   9.96002623e+01],\n",
       "        [  1.98494695e+00,   2.39437857e+00,   2.40005096e+00,\n",
       "           2.22347432e+00,   2.41222864e+00,   7.64422498e-01,\n",
       "           3.40726212e-01,   2.46562654e+00,   2.53515465e+00,\n",
       "           1.97862539e+00,   1.00620300e+00,   2.26602471e+00,\n",
       "           2.06513437e+00,   2.92206510e-01,   1.45157549e+00,\n",
       "           2.48314788e+00,   2.35381949e+00,   2.32271598e+00,\n",
       "           2.47461793e+00,   2.39198298e+00]],\n",
       "\n",
       "       [[  1.17690773e+01,   1.17002650e+01,   1.16422708e+01,\n",
       "           1.19870128e+01,   1.46391935e+01,   1.30145434e+01,\n",
       "           7.77993934e+01,   1.16759750e+01,   1.16301430e+01,\n",
       "           1.24608734e+01,   1.25366181e+01,   1.17068745e+01,\n",
       "           1.16566770e+02,   2.70062063e+01,   1.30222456e+01,\n",
       "           1.20868087e+01,   1.22818084e+01,   1.22070687e+01,\n",
       "           1.22504737e+01,   1.18710997e+01],\n",
       "        [  2.25775635e+01,   1.95043377e+01,   1.94691243e+01,\n",
       "           2.06495414e+01,   1.93940865e+01,   5.12734034e+01,\n",
       "           1.09305795e+02,   1.90738039e+01,   1.86769932e+01,\n",
       "           2.26349840e+01,   4.00594945e+01,   2.03482674e+01,\n",
       "           2.18797107e+01,   1.26690908e+02,   2.91813962e+01,\n",
       "           1.89717118e+01,   1.97610679e+01,   1.99640207e+01,\n",
       "           1.90212329e+01,   1.95192593e+01]],\n",
       "\n",
       "       [[  5.80088510e-01,   4.24254329e-01,   2.92919017e-01,\n",
       "           1.07363150e+00,   7.07983418e+00,   3.40060593e+00,\n",
       "           1.50114192e+02,   3.69246465e-01,   2.65454128e-01,\n",
       "           2.14674936e+00,   2.31828302e+00,   4.39222524e-01,\n",
       "           2.37907879e+02,   3.50865177e+01,   3.41804854e+00,\n",
       "           1.29963198e+00,   1.74123378e+00,   1.57197627e+00,\n",
       "           1.67027235e+00,   8.11131398e-01],\n",
       "        [  3.47007854e+01,   2.77410721e+01,   2.76613269e+01,\n",
       "           3.03345324e+01,   2.74913940e+01,   9.96861881e+01,\n",
       "           2.31107969e+02,   2.67660733e+01,   2.58674445e+01,\n",
       "           3.48308215e+01,   7.42908559e+01,   2.96522590e+01,\n",
       "           3.31204084e+01,   2.70478782e+02,   4.96560099e+01,\n",
       "           2.65348726e+01,   2.83224705e+01,   2.87820830e+01,\n",
       "           2.66470195e+01,   2.77748640e+01]]])"
      ]
     },
     "execution_count": 46,
     "metadata": {},
     "output_type": "execute_result"
    }
   ],
   "source": [
    "info.get_result()"
   ]
  },
  {
   "cell_type": "code",
   "execution_count": 47,
   "metadata": {
    "collapsed": false,
    "deletable": true,
    "editable": true
   },
   "outputs": [
    {
     "data": {
      "text/plain": [
       "array([[  0.44157362,  20.4642971 ],\n",
       "       [  0.98762206,   0.42635659],\n",
       "       [  0.98408551,   0.26245847],\n",
       "       [ 80.78889996,   1.74324323],\n",
       "       [ 11.95449909,  25.06946728],\n",
       "       [  1.        ,  40.34402042]])"
      ]
     },
     "execution_count": 47,
     "metadata": {},
     "output_type": "execute_result"
    }
   ],
   "source": [
    "info.get_quality()"
   ]
  },
  {
   "cell_type": "code",
   "execution_count": 48,
   "metadata": {
    "collapsed": false,
    "deletable": true,
    "editable": true
   },
   "outputs": [
    {
     "data": {
      "text/plain": [
       "array([[  5.80088510e-01,   4.24254329e-01,   2.92919017e-01,\n",
       "          1.07363150e+00,   7.07983418e+00,   3.40060593e+00,\n",
       "          1.50114192e+02,   3.69246465e-01,   2.65454128e-01,\n",
       "          2.14674936e+00,   2.31828302e+00,   4.39222524e-01,\n",
       "          2.37907879e+02,   3.50865177e+01,   3.41804854e+00,\n",
       "          1.29963198e+00,   1.74123378e+00,   1.57197627e+00,\n",
       "          1.67027235e+00,   8.11131398e-01],\n",
       "       [  3.47007854e+01,   2.77410721e+01,   2.76613269e+01,\n",
       "          3.03345324e+01,   2.74913940e+01,   9.96861881e+01,\n",
       "          2.31107969e+02,   2.67660733e+01,   2.58674445e+01,\n",
       "          3.48308215e+01,   7.42908559e+01,   2.96522590e+01,\n",
       "          3.31204084e+01,   2.70478782e+02,   4.96560099e+01,\n",
       "          2.65348726e+01,   2.83224705e+01,   2.87820830e+01,\n",
       "          2.66470195e+01,   2.77748640e+01]])"
      ]
     },
     "execution_count": 48,
     "metadata": {},
     "output_type": "execute_result"
    }
   ],
   "source": [
    "info.result_by_name(\"Mallow's Cp\")"
   ]
  },
  {
   "cell_type": "code",
   "execution_count": 49,
   "metadata": {
    "collapsed": false,
    "deletable": true,
    "editable": true
   },
   "outputs": [
    {
     "data": {
      "text/plain": [
       "{'Adj Det Coef': array([[  2.56151786e-01,   1.87339522e-01,   1.29345312e-01,\n",
       "           4.74087355e-01,   3.12626804e+00,   1.50161789e+00,\n",
       "           6.62864679e+01,   1.63049500e-01,   1.17217541e-01,\n",
       "           9.47947895e-01,   1.02369264e+00,   1.93949082e-01,\n",
       "           1.05053845e+02,   1.54932808e+01,   1.50932009e+00,\n",
       "           5.73883204e-01,   7.68882913e-01,   6.94143258e-01,\n",
       "           7.37548218e-01,   3.58174232e-01],\n",
       "        [  1.79723933e+01,   1.48991675e+01,   1.48639541e+01,\n",
       "           1.60443712e+01,   1.47889163e+01,   4.66682332e+01,\n",
       "           1.04700625e+02,   1.44686337e+01,   1.40718230e+01,\n",
       "           1.80298138e+01,   3.54543243e+01,   1.57430972e+01,\n",
       "           1.72745406e+01,   1.22085738e+02,   2.45762260e+01,\n",
       "           1.43665416e+01,   1.51558977e+01,   1.53588505e+01,\n",
       "           1.44160628e+01,   1.49140891e+01]]),\n",
       " 'BIC': array([[  5.80088510e-01,   4.24254329e-01,   2.92919017e-01,\n",
       "           1.07363150e+00,   7.07983418e+00,   3.40060593e+00,\n",
       "           1.50114192e+02,   3.69246465e-01,   2.65454128e-01,\n",
       "           2.14674936e+00,   2.31828302e+00,   4.39222524e-01,\n",
       "           2.37907879e+02,   3.50865177e+01,   3.41804854e+00,\n",
       "           1.29963198e+00,   1.74123378e+00,   1.57197627e+00,\n",
       "           1.67027235e+00,   8.11131398e-01],\n",
       "        [  3.47007854e+01,   2.77410721e+01,   2.76613269e+01,\n",
       "           3.03345324e+01,   2.74913940e+01,   9.96861881e+01,\n",
       "           2.31107969e+02,   2.67660733e+01,   2.58674445e+01,\n",
       "           3.48308215e+01,   7.42908559e+01,   2.96522590e+01,\n",
       "           3.31204084e+01,   2.70478782e+02,   4.96560099e+01,\n",
       "           2.65348726e+01,   2.83224705e+01,   2.87820830e+01,\n",
       "           2.66470195e+01,   2.77748640e+01]]),\n",
       " 'Det Coef': array([[ 0.99076819,  0.99324821,  0.99533834,  0.9829137 ,  0.88732804,\n",
       "          0.94588108, -1.38899108,  0.99412363,  0.99577543,  0.96583557,\n",
       "          0.9631057 ,  0.99301   , -2.78618299,  0.4416159 ,  0.94560349,\n",
       "          0.97931702,  0.97228915,  0.9749828 ,  0.97341846,  0.98709126],\n",
       "        [ 0.35226768,  0.46302799,  0.46429709,  0.42175438,  0.46700148,\n",
       "         -0.68194197, -2.77345282,  0.4785446 ,  0.49284582,  0.35019823,\n",
       "         -0.27778817,  0.43261242,  0.37741858, -3.4000193 ,  0.11426289,\n",
       "          0.48222404,  0.45377532,  0.44646082,  0.48043928,  0.4624902 ]]),\n",
       " \"Mallow's Cp\": array([[ 0.9928197 ,  0.99474861,  0.99637427,  0.98671066,  0.91236625,\n",
       "          0.95790751, -0.85810417,  0.99542949,  0.99671423,  0.97342767,\n",
       "          0.97130444,  0.99456333, -1.94480899,  0.56570126,  0.95769161,\n",
       "          0.98391324,  0.97844712,  0.98054218,  0.97932547,  0.98995987],\n",
       "        [ 0.4962082 ,  0.5823551 ,  0.58334218,  0.55025341,  0.5854456 ,\n",
       "         -0.30817709, -1.93490775,  0.59442357,  0.60554675,  0.49459862,\n",
       "          0.00616476,  0.55869855,  0.51577001, -2.42223724,  0.31109336,\n",
       "          0.59728536,  0.57515859,  0.56946953,  0.59589721,  0.58193683]]),\n",
       " 'RSS': array([[  1.39269954e+02,   1.90425635e+02,   2.75806265e+02,\n",
       "           7.52482576e+01,   1.14111288e+01,   2.37572073e+01,\n",
       "           5.38182958e-01,   2.18793970e+02,   3.04342225e+02,\n",
       "           3.76331311e+01,   3.48485924e+01,   1.83936150e+02,\n",
       "           3.39580598e-01,   2.30256250e+00,   2.36359721e+01,\n",
       "           6.21629056e+01,   4.63975032e+01,   5.13932059e+01,\n",
       "           4.83686985e+01,   9.96002623e+01],\n",
       "        [  1.98494695e+00,   2.39437857e+00,   2.40005096e+00,\n",
       "           2.22347432e+00,   2.41222864e+00,   7.64422498e-01,\n",
       "           3.40726212e-01,   2.46562654e+00,   2.53515465e+00,\n",
       "           1.97862539e+00,   1.00620300e+00,   2.26602471e+00,\n",
       "           2.06513437e+00,   2.92206510e-01,   1.45157549e+00,\n",
       "           2.48314788e+00,   2.35381949e+00,   2.32271598e+00,\n",
       "           2.47461793e+00,   2.39198298e+00]]),\n",
       " 'VIF': array([[  11.76907725,   11.70026499,   11.64227078,   11.98701282,\n",
       "           14.63919351,   13.01454335,   77.7993934 ,   11.67597497,\n",
       "           11.63014301,   12.46087336,   12.5366181 ,   11.70687455,\n",
       "          116.5667701 ,   27.00620625,   13.02224555,   12.08680867,\n",
       "           12.28180838,   12.20706872,   12.25047368,   11.8710997 ],\n",
       "        [  22.57756353,   19.5043377 ,   19.46912432,   20.64954139,\n",
       "           19.39408646,   51.27340338,  109.30579543,   19.07380393,\n",
       "           18.67699317,   22.63498403,   40.05949448,   20.34826743,\n",
       "           21.87971075,  126.69090804,   29.18139623,   18.97171183,\n",
       "           19.7610679 ,   19.96402068,   19.02123295,   19.51925931]])}"
      ]
     },
     "execution_count": 49,
     "metadata": {},
     "output_type": "execute_result"
    }
   ],
   "source": [
    "info.get_mapped_result()"
   ]
  },
  {
   "cell_type": "code",
   "execution_count": null,
   "metadata": {
    "collapsed": true,
    "deletable": true,
    "editable": true
   },
   "outputs": [],
   "source": []
  },
  {
   "cell_type": "code",
   "execution_count": null,
   "metadata": {
    "collapsed": true,
    "deletable": true,
    "editable": true
   },
   "outputs": [],
   "source": []
  }
 ],
 "metadata": {
  "kernelspec": {
   "display_name": "Python 3",
   "language": "python",
   "name": "python3"
  },
  "language_info": {
   "codemirror_mode": {
    "name": "ipython",
    "version": 3
   },
   "file_extension": ".py",
   "mimetype": "text/x-python",
   "name": "python",
   "nbconvert_exporter": "python",
   "pygments_lexer": "ipython3",
   "version": "3.5.3"
  }
 },
 "nbformat": 4,
 "nbformat_minor": 2
}
