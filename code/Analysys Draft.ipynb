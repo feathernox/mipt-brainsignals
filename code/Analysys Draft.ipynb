{
 "cells": [
  {
   "cell_type": "code",
   "execution_count": 1,
   "metadata": {
    "collapsed": false,
    "deletable": true,
    "editable": true
   },
   "outputs": [
    {
     "name": "stdout",
     "output_type": "stream",
     "text": [
      "<function condition_number_xtx at 0x7f1c540d6048>\n"
     ]
    }
   ],
   "source": [
    "from metrics import *\n",
    "from bootstrap import *\n",
    "from metric_classes import *"
   ]
  },
  {
   "cell_type": "code",
   "execution_count": 2,
   "metadata": {
    "collapsed": false,
    "deletable": true,
    "editable": true
   },
   "outputs": [
    {
     "data": {
      "text/plain": [
       "\"Mallow's Cp\""
      ]
     },
     "execution_count": 2,
     "metadata": {},
     "output_type": "execute_result"
    }
   ],
   "source": [
    "str(Cp())"
   ]
  },
  {
   "cell_type": "code",
   "execution_count": 3,
   "metadata": {
    "collapsed": false,
    "deletable": true,
    "editable": true
   },
   "outputs": [],
   "source": [
    "c = Condition_Number()\n",
    "#c.evaluate(model)"
   ]
  },
  {
   "cell_type": "code",
   "execution_count": 109,
   "metadata": {
    "collapsed": false,
    "deletable": true,
    "editable": true
   },
   "outputs": [],
   "source": [
    "class EvaluateInfo():\n",
    "    '''\n",
    "    Abstract class.\n",
    "    Use Static EvaluateInfo or DynamicEvaluateInfo.\n",
    "    '''\n",
    "    def __init__(self, model, metrics = [], comparisons = [], characteristics = []):\n",
    "        '''\n",
    "        Creates an EvaluateInfo object. This object is used to calculate the quality of a model \n",
    "        and the distribution of the quality using bootstrap.\n",
    "        model - the model to use\n",
    "        metrics - desired metrics are objects of class Metric or with the same interface(see Metric)\n",
    "        comparisons - desired comparisons are objects of class Comparison or with the same interface(see Comparison)\n",
    "        characteristics - desired characteristics are objects of class Сharacteristic\n",
    "        or with the same interface(see Characteristic)\n",
    "        '''\n",
    "        self.model = model\n",
    "        self.characteristics = characteristics # characteristic of the fitted model itself\n",
    "        self.metrics = metrics # compares y and y_pred\n",
    "        self.comparisons = comparisons #compares y, y_pred, y_pred_with_reduced_features\n",
    "        \n",
    "        all_names = [str(el) for el in metrics] +\\\n",
    "                     [str(el) for el in comparisons] +\\\n",
    "                     [str(el) for el in characteristics]\n",
    "        \n",
    "        self.names = dict(zip(all_names, [i for i in range(len(all_names))]))\n",
    "        #print(self.names)\n",
    "        \n",
    "    def _calcQuality(self):\n",
    "        '''\n",
    "        Calculates the value of all metrics on test sample\n",
    "        '''\n",
    "        \n",
    "        model = self.model\n",
    "        for (m, mask) in enumerate(self.masks):\n",
    "            reduced_X_test = self.X_test[:, mask]\n",
    "            model.fit(self.X_train.T[mask].T, self.y_train)\n",
    "            for (i, metric) in enumerate(self.metrics):\n",
    "                self.quality[i][m] = metric.evaluate(model, reduced_X_test, self.y_test)\n",
    "\n",
    "            for (i, comp) in enumerate(self.comparisons):\n",
    "                ind = i + len(self.metrics)\n",
    "                self.quality[ind][m] = comp.evaluate(self.full, model, self.X_test,\n",
    "                                                                 reduced_X_test, self.y_test)\n",
    "            for (i, char) in enumerate(self.characteristics):\n",
    "                ind = i + len(self.metrics) + len(self.comparisons)\n",
    "                self.quality[ind][m] = char.evaluate(model)\n",
    "        \n",
    "    def fit(self, X_train, y_train, X_test, y_test, masks = None, n_samples=20, len_sample=None):\n",
    "        '''\n",
    "        X_train - train features. 2D numpy array or list\n",
    "        \n",
    "        y_train - train answers. 2D numpy array or list\n",
    "        \n",
    "        X_test - test features. 2D numpy array or list\n",
    "        \n",
    "        y_test - test answers. 2D numpy array or list\n",
    "        \n",
    "        masks - sets of desired features. List or numpy array of lists or numpy arays. \n",
    "        Each list/numpy array represents a boolean mask of taken features.\n",
    "        If None, one mask containing all features will be used.\n",
    "        \n",
    "        n_samples - number of bootstrap samples to generate. Default is 20.\n",
    "        \n",
    "        len_sample - length of each bootstrap sample\n",
    "        If None, it will be equal to the number of features.\n",
    "        '''\n",
    "        \n",
    "        self.len_sample = len_sample\n",
    "        \n",
    "        self.n_samples = n_samples\n",
    "\n",
    "        self.X_train = np.array(X_train)\n",
    "        self.y_train = np.array(y_train)\n",
    "\n",
    "        self.X_test = np.array(X_test)\n",
    "        self.y_test = np.array(y_test)\n",
    "        \n",
    "        if masks is None:\n",
    "            masks = np.ones((1, self.X_train.shape[1]), dtype=bool)\n",
    "        \n",
    "        self.masks = np.array(masks, dtype=bool)\n",
    "        \n",
    "        # model with all features\n",
    "        self.full = deepcopy(self.model.fit(self.X_train, self.y_train))\n",
    "        \n",
    "        self.result = np.zeros((len(self.metrics) + len(self.comparisons) \n",
    "                                + len(self.characteristics), len(self.masks), self.n_samples))\n",
    "        \n",
    "        self.quality = np.zeros((len(self.metrics) + len(self.comparisons) \n",
    "                                + len(self.characteristics), len(self.masks)))\n",
    "        self._calcQuality()\n",
    "        \n",
    "    \n",
    "    \n",
    "    def get_quality(self):\n",
    "        '''Returns the value of metrics'''\n",
    "        return self.quality\n",
    "    \n",
    "    def get_result(self):\n",
    "        '''Returns the value of metrics generated with bootstrap'''\n",
    "        return self.result\n",
    "    \n",
    "    def _get_mapped(self, array):\n",
    "        '''Returns the value of something mapped to names'''\n",
    "        return dict(zip(self.names.keys(), list(array)))\n",
    "    \n",
    "    def get_mapped_quality(self):\n",
    "        '''Returns the value of metrics mapped to their names'''\n",
    "        return self._get_mapped(self.quality)\n",
    "    \n",
    "    def get_mapped_result(self):\n",
    "        '''Returns the value of metrics generated with bootstrap mapped to their names'''\n",
    "        return self._get_mapped(self.result)\n",
    "    \n",
    "    def _by_name(self, name, array):\n",
    "        '''Return element of array corresponding to the name'''\n",
    "        if name in self.names:\n",
    "            return array[self.names[name]]\n",
    "        else:\n",
    "            raise NameError('Invalid argument')\n",
    "        \n",
    "    def quality_by_name(self, name):\n",
    "        '''Return quality of a particular metric'''\n",
    "        return self._by_name(name, self.quality)\n",
    "            \n",
    "    def result_by_name(self, name):\n",
    "        '''Return bootstrap quality of a particular metric'''\n",
    "        return self._by_name(name, self.result)\n",
    "            \n",
    "    "
   ]
  },
  {
   "cell_type": "code",
   "execution_count": 110,
   "metadata": {
    "collapsed": false,
    "deletable": true,
    "editable": true
   },
   "outputs": [],
   "source": [
    "from copy import deepcopy\n",
    "class EvaluateStaticInfo(EvaluateInfo):\n",
    "    '''\n",
    "    Computes the values and distributions of metrics using bootstrap.\n",
    "    A model is fit on one train sample, but the quality is evaluated on bootstrap test samples\n",
    "    '''\n",
    "    def __init__(self, model, metrics = [], comparisons = []):\n",
    "        super(EvaluateStaticInfo, self).__init__(model, metrics, comparisons, [])\n",
    "    \n",
    "    def __eval(self):\n",
    "        '''\n",
    "        Computes the bootstrap result\n",
    "        '''\n",
    "        model = self.model\n",
    "        \n",
    "        sample_X, sample_y = self.boot.values()\n",
    "        \n",
    "        self.models = []\n",
    "        for mask in self.masks:\n",
    "            self.models += [deepcopy(model.fit(self.X_train[:, mask], self.y_train))]\n",
    "        \n",
    "        for (m, mask) in enumerate(self.masks):\n",
    "            for it in range(self.n_samples):\n",
    "                reduced_X_cur = (sample_X[it].T[mask]).T\n",
    "                for (i, metric) in enumerate(self.metrics):\n",
    "                    self.result[i][m][it] = metric.evaluate(self.models[m], reduced_X_cur, sample_y[it])\n",
    "                for(i, comp) in enumerate(self.comparisons):\n",
    "                    ind = i + len(self.metrics)\n",
    "                    self.result[ind][m][it] = comp.evaluate(self.full, self.models[m], sample_X[it], \n",
    "                                                              reduced_X_cur, sample_y[it])\n",
    "\n",
    "    def fit(self, X_train, y_train, X_test, y_test, masks = None, n_samples=20, len_sample=None):\n",
    "        '''See EvaluateInfo - fit'''\n",
    "        super(EvaluateStaticInfo, self).fit(X_train, y_train, X_test, y_test, masks, n_samples, len_sample)\n",
    "        if self.len_sample is None:\n",
    "            self.len_sample = len(X_test)\n",
    "        self.boot = Bootstrap(self.X_test, self.y_test, self.n_samples, self.len_sample)\n",
    "        self.__eval()\n",
    "        "
   ]
  },
  {
   "cell_type": "code",
   "execution_count": 111,
   "metadata": {
    "collapsed": false,
    "deletable": true,
    "editable": true
   },
   "outputs": [],
   "source": [
    "from copy import deepcopy\n",
    "class EvaluateDynamicInfo(EvaluateInfo):\n",
    "    '''\n",
    "    Computes the values and distributions of metrics using bootstrap.\n",
    "    A model is fit on bootstrap train samples, but the quality is evaluated on one test sample\n",
    "    '''\n",
    "    def __init__(self, model, metrics = [], comparisons = [], characteristics = []):\n",
    "        super(EvaluateDynamicInfo, self).__init__(model, metrics, comparisons, characteristics)\n",
    "    \n",
    "    def __eval(self):\n",
    "        '''\n",
    "        Computes the bootstrap result\n",
    "        '''\n",
    "        \n",
    "        model = self.model\n",
    "        \n",
    "        sample_X, sample_y = self.boot.values()\n",
    "            \n",
    "        for (m, mask) in enumerate(self.masks):\n",
    "            reduced_X_test = (self.X_test.T[mask]).T\n",
    "            for it in range(self.n_samples):\n",
    "                model.fit((sample_X[it].T[mask]).T, sample_y[it])\n",
    "                for (i, metric) in enumerate(self.metrics):\n",
    "                    #print(i)\n",
    "                    self.result[i][m][it] = metric.evaluate(model, reduced_X_test, self.y_test)\n",
    "                \n",
    "                for (i, comp) in enumerate(self.comparisons):\n",
    "                    ind = i + len(self.metrics) \n",
    "                    #print(i)\n",
    "                    self.result[ind][m][it] = comp.evaluate(self.full, model, self.X_test,\n",
    "                                                              reduced_X_test, self.y_test)\n",
    "                for (i, char) in enumerate(self.characteristics):\n",
    "                    ind = i + len(self.metrics) + len(self.comparisons)\n",
    "                    #print(i)\n",
    "                    self.result[ind][m][it] = char.evaluate(model)\n",
    "\n",
    "                \n",
    "                \n",
    "\n",
    "    def fit(self, X_train, y_train, X_test, y_test, masks = None, n_samples=20, len_sample=None):\n",
    "        '''See EvaluateInfo - fit'''\n",
    "        super(EvaluateDynamicInfo, self).fit(X_train, y_train, X_test, y_test, masks, n_samples, len_sample)\n",
    "        if self.len_sample is None:\n",
    "            self.len_sample = len(X_test)\n",
    "        self.boot = Bootstrap(self.X_test, self.y_test, self.n_samples, self.len_sample)\n",
    "        self.__eval()\n",
    "    "
   ]
  },
  {
   "cell_type": "code",
   "execution_count": 112,
   "metadata": {
    "collapsed": true,
    "deletable": true,
    "editable": true
   },
   "outputs": [],
   "source": [
    "from sklearn.linear_model import LinearRegression\n",
    "mo = LinearRegression()"
   ]
  },
  {
   "cell_type": "code",
   "execution_count": 113,
   "metadata": {
    "collapsed": false,
    "deletable": true,
    "editable": true
   },
   "outputs": [
    {
     "name": "stdout",
     "output_type": "stream",
     "text": [
      "[ 1.  0.  0.  0.  1.]\n"
     ]
    }
   ],
   "source": [
    "import scipy.stats as sps\n",
    "\n",
    "XX = sps.norm.rvs(size=(10, 5))\n",
    "X2 = sps.norm.rvs(size=(10, 5))\n",
    "zz = sps.uniform.rvs(size=(5, 3))\n",
    "yy = XX @ zz + sps.norm.rvs(scale=0.1, size=(10, 3))\n",
    "y2 = X2 @ zz + sps.norm.rvs(scale=0.1, size=(10, 3))\n",
    "maskk = np.ones(XX.shape[1])\n",
    "maskk[2]=0\n",
    "maskk[1] = 0\n",
    "maskk[3] = 0\n",
    "print(maskk)\n",
    "\n",
    "metric1 = RSS()\n",
    "metric2 = Adjusted_Determination_Coefficient()\n",
    "metric3 = Determination_Coefficient()\n",
    "metric4 = VIF()\n",
    "metric5 = BIC()\n",
    "char1 = Condition_Number()\n",
    "comp1 = Cp()"
   ]
  },
  {
   "cell_type": "code",
   "execution_count": 114,
   "metadata": {
    "collapsed": false,
    "deletable": true,
    "editable": true
   },
   "outputs": [],
   "source": [
    "info = EvaluateDynamicInfo(mo, [metric1, metric2, metric3, metric4, metric5],\n",
    "                           [comp1])#, [char1])"
   ]
  },
  {
   "cell_type": "code",
   "execution_count": 115,
   "metadata": {
    "collapsed": false,
    "deletable": true,
    "editable": true
   },
   "outputs": [],
   "source": [
    "info.fit(list(XX), list(yy), list(X2), list(y2))#, masks=[np.ones(len(XX.T)), maskk])"
   ]
  },
  {
   "cell_type": "code",
   "execution_count": 116,
   "metadata": {
    "collapsed": false,
    "deletable": true,
    "editable": true
   },
   "outputs": [
    {
     "data": {
      "text/plain": [
       "array([[[  7.58032500e-01,   3.53191860e+00,   1.03386878e+01,\n",
       "           1.13917138e-01,   2.32691077e-01,   4.32210875e-01,\n",
       "           1.64686009e-01,   3.87500582e+04,   1.90631139e-01,\n",
       "           1.12072021e-01,   1.04633536e-01,   1.56497193e+00,\n",
       "           5.74458519e+00,   1.46676425e+00,   4.40350527e-01,\n",
       "           5.95452971e+00,   1.56497193e+00,   3.08889312e+02,\n",
       "           1.79306552e-01,   2.17911436e-01]],\n",
       "\n",
       "       [[  9.88312261e-01,   9.45543044e-01,   8.40592741e-01,\n",
       "           9.98243566e-01,   9.96412248e-01,   9.93335948e-01,\n",
       "           9.97460786e-01,  -5.96468528e+02,   9.97060750e-01,\n",
       "           9.98272015e-01,   9.98386706e-01,   9.75870450e-01,\n",
       "           9.11427001e-01,   9.77384667e-01,   9.93210447e-01,\n",
       "           9.08189967e-01,   9.75870450e-01,  -3.76261588e+00,\n",
       "           9.97235358e-01,   9.96640128e-01]],\n",
       "\n",
       "       [[  9.84972907e-01,   9.29983914e-01,   7.95047810e-01,\n",
       "           9.97741728e-01,   9.95387176e-01,   9.91431933e-01,\n",
       "           9.96735296e-01,  -7.67173822e+02,   9.96220964e-01,\n",
       "           9.97778305e-01,   9.97925765e-01,   9.68976293e-01,\n",
       "           8.86120430e-01,   9.70923143e-01,   9.91270574e-01,\n",
       "           8.81958530e-01,   9.68976293e-01,  -5.12336328e+00,\n",
       "           9.96445461e-01,   9.95680165e-01]],\n",
       "\n",
       "       [[  8.55597485e+01,   1.83631270e+01,   6.27324004e+00,\n",
       "           5.69335495e+02,   2.78726072e+02,   1.50058857e+02,\n",
       "           3.93822586e+02,   1.67372833e-03,   3.40222853e+02,\n",
       "           5.78708845e+02,   6.19849739e+02,   4.14429607e+01,\n",
       "           1.12901224e+01,   4.42177876e+01,   1.47285097e+02,\n",
       "           1.08920558e+01,   4.14429607e+01,   2.09968644e-01,\n",
       "           3.61710542e+02,   2.97630410e+02]],\n",
       "\n",
       "       [[  1.22709580e+01,   1.50448441e+01,   2.18516132e+01,\n",
       "           1.16268426e+01,   1.17456165e+01,   1.19451363e+01,\n",
       "           1.16776115e+01,   3.87615711e+04,   1.17035566e+01,\n",
       "           1.16249975e+01,   1.16175590e+01,   1.30778974e+01,\n",
       "           1.72575107e+01,   1.29796897e+01,   1.19532760e+01,\n",
       "           1.74674552e+01,   1.30778974e+01,   3.20402237e+02,\n",
       "           1.16922320e+01,   1.17308369e+01]],\n",
       "\n",
       "       [[  9.86952136e-01,   4.59852923e+00,   1.34608872e+01,\n",
       "           1.48319185e-01,   3.02961886e-01,   5.62735036e-01,\n",
       "           2.14419842e-01,   5.04522599e+04,   2.48200189e-01,\n",
       "           1.45916858e-01,   1.36232011e-01,   2.03758069e+00,\n",
       "           7.47940309e+00,   1.90971510e+00,   5.73332797e-01,\n",
       "           7.75274915e+00,   2.03758069e+00,   4.02171366e+02,\n",
       "           2.33455669e-01,   2.83718914e-01]]])"
      ]
     },
     "execution_count": 116,
     "metadata": {},
     "output_type": "execute_result"
    }
   ],
   "source": [
    "info.get_result()"
   ]
  },
  {
   "cell_type": "code",
   "execution_count": 117,
   "metadata": {
    "collapsed": false,
    "deletable": true,
    "editable": true
   },
   "outputs": [
    {
     "data": {
      "text/plain": [
       "array([[  0.76805396],\n",
       "       [  0.98815774],\n",
       "       [  0.98477424],\n",
       "       [ 84.44337652],\n",
       "       [ 12.28097943],\n",
       "       [  1.        ]])"
      ]
     },
     "execution_count": 117,
     "metadata": {},
     "output_type": "execute_result"
    }
   ],
   "source": [
    "info.get_quality()"
   ]
  },
  {
   "cell_type": "code",
   "execution_count": 118,
   "metadata": {
    "collapsed": false,
    "deletable": true,
    "editable": true
   },
   "outputs": [
    {
     "data": {
      "text/plain": [
       "array([[  9.86952136e-01,   4.59852923e+00,   1.34608872e+01,\n",
       "          1.48319185e-01,   3.02961886e-01,   5.62735036e-01,\n",
       "          2.14419842e-01,   5.04522599e+04,   2.48200189e-01,\n",
       "          1.45916858e-01,   1.36232011e-01,   2.03758069e+00,\n",
       "          7.47940309e+00,   1.90971510e+00,   5.73332797e-01,\n",
       "          7.75274915e+00,   2.03758069e+00,   4.02171366e+02,\n",
       "          2.33455669e-01,   2.83718914e-01]])"
      ]
     },
     "execution_count": 118,
     "metadata": {},
     "output_type": "execute_result"
    }
   ],
   "source": [
    "info.result_by_name(\"Mallow's Cp\")"
   ]
  },
  {
   "cell_type": "code",
   "execution_count": 119,
   "metadata": {
    "collapsed": false,
    "deletable": true,
    "editable": true
   },
   "outputs": [
    {
     "data": {
      "text/plain": [
       "{'Adj Det Coef': array([[  7.58032500e-01,   3.53191860e+00,   1.03386878e+01,\n",
       "           1.13917138e-01,   2.32691077e-01,   4.32210875e-01,\n",
       "           1.64686009e-01,   3.87500582e+04,   1.90631139e-01,\n",
       "           1.12072021e-01,   1.04633536e-01,   1.56497193e+00,\n",
       "           5.74458519e+00,   1.46676425e+00,   4.40350527e-01,\n",
       "           5.95452971e+00,   1.56497193e+00,   3.08889312e+02,\n",
       "           1.79306552e-01,   2.17911436e-01]]),\n",
       " 'BIC': array([[  9.86952136e-01,   4.59852923e+00,   1.34608872e+01,\n",
       "           1.48319185e-01,   3.02961886e-01,   5.62735036e-01,\n",
       "           2.14419842e-01,   5.04522599e+04,   2.48200189e-01,\n",
       "           1.45916858e-01,   1.36232011e-01,   2.03758069e+00,\n",
       "           7.47940309e+00,   1.90971510e+00,   5.73332797e-01,\n",
       "           7.75274915e+00,   2.03758069e+00,   4.02171366e+02,\n",
       "           2.33455669e-01,   2.83718914e-01]]),\n",
       " 'Det Coef': array([[   0.98497291,    0.92998391,    0.79504781,    0.99774173,\n",
       "            0.99538718,    0.99143193,    0.9967353 , -767.17382178,\n",
       "            0.99622096,    0.99777831,    0.99792576,    0.96897629,\n",
       "            0.88612043,    0.97092314,    0.99127057,    0.88195853,\n",
       "            0.96897629,   -5.12336328,    0.99644546,    0.99568016]]),\n",
       " \"Mallow's Cp\": array([[   0.98831226,    0.94554304,    0.84059274,    0.99824357,\n",
       "            0.99641225,    0.99333595,    0.99746079, -596.46852805,\n",
       "            0.99706075,    0.99827202,    0.99838671,    0.97587045,\n",
       "            0.911427  ,    0.97738467,    0.99321045,    0.90818997,\n",
       "            0.97587045,   -3.76261588,    0.99723536,    0.99664013]]),\n",
       " 'RSS': array([[  8.55597485e+01,   1.83631270e+01,   6.27324004e+00,\n",
       "           5.69335495e+02,   2.78726072e+02,   1.50058857e+02,\n",
       "           3.93822586e+02,   1.67372833e-03,   3.40222853e+02,\n",
       "           5.78708845e+02,   6.19849739e+02,   4.14429607e+01,\n",
       "           1.12901224e+01,   4.42177876e+01,   1.47285097e+02,\n",
       "           1.08920558e+01,   4.14429607e+01,   2.09968644e-01,\n",
       "           3.61710542e+02,   2.97630410e+02]]),\n",
       " 'VIF': array([[  1.22709580e+01,   1.50448441e+01,   2.18516132e+01,\n",
       "           1.16268426e+01,   1.17456165e+01,   1.19451363e+01,\n",
       "           1.16776115e+01,   3.87615711e+04,   1.17035566e+01,\n",
       "           1.16249975e+01,   1.16175590e+01,   1.30778974e+01,\n",
       "           1.72575107e+01,   1.29796897e+01,   1.19532760e+01,\n",
       "           1.74674552e+01,   1.30778974e+01,   3.20402237e+02,\n",
       "           1.16922320e+01,   1.17308369e+01]])}"
      ]
     },
     "execution_count": 119,
     "metadata": {},
     "output_type": "execute_result"
    }
   ],
   "source": [
    "info.get_mapped_result()"
   ]
  },
  {
   "cell_type": "code",
   "execution_count": null,
   "metadata": {
    "collapsed": true,
    "deletable": true,
    "editable": true
   },
   "outputs": [],
   "source": []
  },
  {
   "cell_type": "code",
   "execution_count": null,
   "metadata": {
    "collapsed": true,
    "deletable": true,
    "editable": true
   },
   "outputs": [],
   "source": []
  },
  {
   "cell_type": "code",
   "execution_count": null,
   "metadata": {
    "collapsed": true
   },
   "outputs": [],
   "source": []
  }
 ],
 "metadata": {
  "kernelspec": {
   "display_name": "Python 3",
   "language": "python",
   "name": "python3"
  },
  "language_info": {
   "codemirror_mode": {
    "name": "ipython",
    "version": 3
   },
   "file_extension": ".py",
   "mimetype": "text/x-python",
   "name": "python",
   "nbconvert_exporter": "python",
   "pygments_lexer": "ipython3",
   "version": "3.5.3"
  }
 },
 "nbformat": 4,
 "nbformat_minor": 2
}
