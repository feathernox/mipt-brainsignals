{
 "cells": [
  {
   "cell_type": "code",
   "execution_count": 4,
   "metadata": {
    "collapsed": false,
    "deletable": true,
    "editable": true
   },
   "outputs": [
    {
     "name": "stdout",
     "output_type": "stream",
     "text": [
      "<function condition_number_xtx at 0x7fcb16313950>\n"
     ]
    }
   ],
   "source": [
    "from metrics import *\n",
    "from bootstrap import *\n",
    "from metric_classes import *"
   ]
  },
  {
   "cell_type": "code",
   "execution_count": 5,
   "metadata": {
    "collapsed": false,
    "deletable": true,
    "editable": true
   },
   "outputs": [
    {
     "data": {
      "text/plain": [
       "\"Mallow's Cp\""
      ]
     },
     "execution_count": 5,
     "metadata": {},
     "output_type": "execute_result"
    }
   ],
   "source": [
    "str(Cp())"
   ]
  },
  {
   "cell_type": "code",
   "execution_count": 6,
   "metadata": {
    "collapsed": false,
    "deletable": true,
    "editable": true
   },
   "outputs": [],
   "source": [
    "c = Condition_Number()\n",
    "#c.evaluate(model)"
   ]
  },
  {
   "cell_type": "code",
   "execution_count": 7,
   "metadata": {
    "collapsed": false,
    "deletable": true,
    "editable": true
   },
   "outputs": [],
   "source": [
    "class EvaluateInfo():\n",
    "    def __init__(self, model, metrics = [], comparisons = [], characteristics = []):\n",
    "        self.model = model\n",
    "        self.characteristics = characteristics # characteristic of the fitted model itself\n",
    "        self.metrics = metrics # compares y and y_pred\n",
    "        self.comparisons = comparisons #compares y, y_pred, y_pred_with_reduced_features\n",
    "        \n",
    "        all_names = [str(el) for el in metrics] +\\\n",
    "                     [str(el) for el in comparisons] +\\\n",
    "                     [str(el) for el in characteristics]\n",
    "        \n",
    "        self.names = dict(zip(all_names, [i for i in range(len(all_names))]))\n",
    "        print(self.names)\n",
    "        \n",
    "    def _calcQuality(self):     \n",
    "        model = self.model\n",
    "        for (m, mask) in enumerate(self.masks):\n",
    "            reduced_X_test = self.X_test[:, mask]\n",
    "            model.fit(self.X_train.T[mask].T, self.y_train)\n",
    "            for (i, metric) in enumerate(self.metrics):\n",
    "                self.quality[i][m] = metric.evaluate(model, reduced_X_test, self.y_test)\n",
    "\n",
    "            for (i, comp) in enumerate(self.comparisons):\n",
    "                ind = i + len(self.metrics)\n",
    "                self.quality[ind][m] = comp.evaluate(self.full, model, self.X_test,\n",
    "                                                                 reduced_X_test, self.y_test)\n",
    "            for (i, char) in enumerate(self.characteristics):\n",
    "                ind = i + len(self.metrics) + len(self.comparisons)\n",
    "                self.quality[ind][m] = char.evaluate(model)\n",
    "        \n",
    "    def fit(self, X_train, y_train, X_test, y_test, masks = None, n_samples=20, len_sample=None):\n",
    "        if masks is None:\n",
    "            masks = np.ones((1, X.shape[1]), dtype=bool)\n",
    "        masks = np.array(masks, dtype=bool)\n",
    "        if len(masks.shape) == 1:\n",
    "            masks = masks.reshape((1, len(masks.shape)))\n",
    "        self.masks = masks\n",
    "        self.len_sample = len_sample\n",
    "        \n",
    "        self.n_samples = n_samples\n",
    "\n",
    "        self.X_train = X_train\n",
    "        self.y_train = y_train\n",
    "\n",
    "        self.X_test = X_test\n",
    "        self.y_test = y_test\n",
    "        \n",
    "        self.full = deepcopy(self.model.fit(self.X_train, self.y_train))\n",
    "        \n",
    "        self.result = np.zeros((len(self.metrics) + len(self.comparisons) \n",
    "                                + len(self.characteristics), len(self.masks), self.n_samples))\n",
    "        \n",
    "        self.quality = np.zeros((len(self.metrics) + len(self.comparisons) \n",
    "                                + len(self.characteristics), len(self.masks)))\n",
    "        self._calcQuality()\n",
    "        \n",
    "    \n",
    "    \n",
    "    def get_quality(self):\n",
    "        return self.quality\n",
    "    \n",
    "    def get_result(self):\n",
    "        return self.result\n",
    "    \n",
    "    def _by_name(self, name, array):\n",
    "        if name in self.names:\n",
    "            return array[self.names[name]]\n",
    "        else:\n",
    "            raise NameError('Invalid argument')\n",
    "        \n",
    "    def quality_by_name(self, name):\n",
    "        return self._by_name(name, self.quality)\n",
    "            \n",
    "    def result_by_name(self, name):\n",
    "        return self._by_name(name, self.result)\n",
    "            \n",
    "    "
   ]
  },
  {
   "cell_type": "code",
   "execution_count": 8,
   "metadata": {
    "collapsed": false,
    "deletable": true,
    "editable": true
   },
   "outputs": [],
   "source": [
    "from copy import deepcopy\n",
    "class EvaluateStaticInfo(EvaluateInfo):\n",
    "    def __init__(self, model, metrics = [], comparisons = []):\n",
    "        super(EvaluateStaticInfo, self).__init__(model, metrics, comparisons, [])\n",
    "    \n",
    "    def __eval(self):\n",
    "        model = self.model\n",
    "        \n",
    "        sample_X, sample_y = self.boot.values()\n",
    "        \n",
    "        self.models = []\n",
    "        for mask in self.masks:\n",
    "            self.models += [deepcopy(model.fit(self.X_train[:, mask], self.y_train))]\n",
    "        \n",
    "        for (m, mask) in enumerate(self.masks):\n",
    "            for it in range(self.n_samples):\n",
    "                reduced_X_cur = (sample_X[it].T[mask]).T\n",
    "                for (i, metric) in enumerate(self.metrics):\n",
    "                    self.result[i][m][it] = metric.evaluate(self.models[m], reduced_X_cur, sample_y[it])\n",
    "                for(i, comp) in enumerate(self.comparisons):\n",
    "                    ind = i + len(self.metrics)\n",
    "                    self.result[ind][m][it] = comp.evaluate(self.full, self.models[m], sample_X[it], \n",
    "                                                              reduced_X_cur, sample_y[it])\n",
    "\n",
    "    def fit(self, X_train, y_train, X_test, y_test, masks = None, n_samples=20, len_sample=None):\n",
    "        super(EvaluateStaticInfo, self).fit(X_train, y_train, X_test, y_test, masks, n_samples, len_sample)\n",
    "        if self.len_sample is None:\n",
    "            self.len_sample = len(X_test)\n",
    "        self.boot = Bootstrap(self.X_test, self.y_test, self.n_samples, self.len_sample)\n",
    "        self.__eval()\n",
    "        "
   ]
  },
  {
   "cell_type": "code",
   "execution_count": 9,
   "metadata": {
    "collapsed": false,
    "deletable": true,
    "editable": true
   },
   "outputs": [],
   "source": [
    "from copy import deepcopy\n",
    "class EvaluateDynamicInfo(EvaluateInfo):\n",
    "    def __init__(self, model, metrics = [], comparisons = [], characteristics = []):\n",
    "        super(EvaluateDynamicInfo, self).__init__(model, metrics, comparisons, characteristics)\n",
    "    \n",
    "    def __eval(self):\n",
    "        model = self.model\n",
    "        \n",
    "        sample_X, sample_y = self.boot.values()\n",
    "            \n",
    "        for (m, mask) in enumerate(self.masks):\n",
    "            reduced_X_test = (self.X_test.T[mask]).T\n",
    "            for it in range(self.n_samples):\n",
    "                model.fit((sample_X[it].T[mask]).T, sample_y[it])\n",
    "                for (i, metric) in enumerate(self.metrics):\n",
    "                    self.result[i][m][it] = metric.evaluate(model, reduced_X_test, self.y_test)\n",
    "\n",
    "                for (i, char) in enumerate(self.characteristics):\n",
    "                    ind = i + len(self.metrics)\n",
    "                    self.result[ind][m][it] = char.evaluate(model)\n",
    "\n",
    "                for (i, comp) in enumerate(self.comparisons):\n",
    "                    ind = i + len(self.metrics) + len(self.comparisons)\n",
    "                    self.result[ind][m][it] = comp.evaluate(self.full, model, self.X_test,\n",
    "                                                              reduced_X_test, self.y_test)\n",
    "                \n",
    "\n",
    "    def fit(self, X_train, y_train, X_test, y_test, masks = None, n_samples=20, len_sample=None):\n",
    "        super(EvaluateDynamicInfo, self).fit(X_train, y_train, X_test, y_test, masks, n_samples, len_sample)\n",
    "        if self.len_sample is None:\n",
    "            self.len_sample = len(X_test)\n",
    "        self.boot = Bootstrap(self.X_test, self.y_test, self.n_samples, self.len_sample)\n",
    "        self.__eval()\n",
    "    "
   ]
  },
  {
   "cell_type": "code",
   "execution_count": 10,
   "metadata": {
    "collapsed": true,
    "deletable": true,
    "editable": true
   },
   "outputs": [],
   "source": [
    "from sklearn.linear_model import LinearRegression\n",
    "mo = LinearRegression()"
   ]
  },
  {
   "cell_type": "code",
   "execution_count": 12,
   "metadata": {
    "collapsed": false,
    "deletable": true,
    "editable": true
   },
   "outputs": [],
   "source": [
    "import scipy.stats as sps\n",
    "\n",
    "XX = sps.norm.rvs(size=(10, 5))\n",
    "X2 = sps.norm.rvs(size=(10, 5))\n",
    "zz = sps.uniform.rvs(size=(5, 3))\n",
    "yy = XX @ zz + sps.norm.rvs(scale=0.1, size=(10, 3))\n",
    "y2 = X2 @ zz + sps.norm.rvs(scale=0.1, size=(10, 3))\n",
    "maskk = np.ones(XX.shape[1])\n",
    "maskk[2]=0\n",
    "maskk[1] = 0\n",
    "maskk[3] = 0\n",
    "print(maskk)\n",
    "\n",
    "metric1 = RSS()\n",
    "metric2 = Adjusted_Determination_Coefficient()\n",
    "metric3 = Determination_Coefficient()\n",
    "metric4 = VIF()\n",
    "metric5 = BIC()\n",
    "char1 = Condition_Number()\n",
    "comp1 = Cp()"
   ]
  },
  {
   "cell_type": "code",
   "execution_count": 13,
   "metadata": {
    "collapsed": false,
    "deletable": true,
    "editable": true
   },
   "outputs": [
    {
     "name": "stdout",
     "output_type": "stream",
     "text": [
      "{'RSS': 0, 'Adj Det Coef': 1, 'Det Coef': 2, 'VIF': 3, \"Mallow's Cp\": 5, 'BIC': 4}\n"
     ]
    }
   ],
   "source": [
    "info = EvaluateStaticInfo(mo, [metric1, metric2, metric3, metric4, metric5],\n",
    "                           [comp1])#, [char1])"
   ]
  },
  {
   "cell_type": "code",
   "execution_count": 14,
   "metadata": {
    "collapsed": false,
    "deletable": true,
    "editable": true
   },
   "outputs": [],
   "source": [
    "info.fit(XX, yy, X2, y2, masks=[np.ones(len(XX.T)), maskk])"
   ]
  },
  {
   "cell_type": "code",
   "execution_count": 15,
   "metadata": {
    "collapsed": false,
    "deletable": true,
    "editable": true
   },
   "outputs": [
    {
     "data": {
      "text/plain": [
       "array([[[  9.94578307e-01,   7.60067303e-01,   1.20417341e+00,\n",
       "           8.70208642e-01,   3.41759889e-01,   1.27030466e+00,\n",
       "           8.46708174e-01,   8.86550095e-01,   1.27226444e+00,\n",
       "           1.18620340e+00,   1.00593406e+00,   1.32994489e+00,\n",
       "           8.13576730e-01,   1.75989637e-01,   3.84627919e-01,\n",
       "           6.41014145e-01,   8.06766605e-01,   1.54801902e+00,\n",
       "           1.03262097e+00,   7.00309550e-01],\n",
       "        [  1.78024867e+01,   1.69327747e+01,   7.35680026e+00,\n",
       "           3.61896011e+01,   1.92513519e+01,   1.53830408e+01,\n",
       "           2.01809144e+01,   2.15802909e+01,   1.37495138e+01,\n",
       "           1.60174158e+01,   2.53812486e+01,   1.39598040e+01,\n",
       "           1.83767488e+01,   1.03223355e+01,   1.64003208e+01,\n",
       "           1.90406395e+01,   1.72086034e+01,   1.76022007e+01,\n",
       "           1.96959472e+01,   1.12772630e+01]],\n",
       "\n",
       "       [[  9.55633384e-01,   9.86840403e-01,   9.10383988e-01,\n",
       "           9.79202835e-01,   9.94167971e-01,   9.04342990e-01,\n",
       "           9.73208565e-01,   9.65623768e-01,   9.61250102e-01,\n",
       "           9.64461012e-01,   9.71613526e-01,   9.61871443e-01,\n",
       "           9.79079456e-01,   9.93337678e-01,   9.50244962e-01,\n",
       "           9.80775036e-01,   9.73615371e-01,   7.85751604e-01,\n",
       "           9.60794923e-01,   9.62269765e-01],\n",
       "        [  2.05858309e-01,   7.06830578e-01,   4.52498213e-01,\n",
       "           1.35102699e-01,   6.71481490e-01,  -1.58380134e-01,\n",
       "           3.61438022e-01,   1.63218082e-01,   5.81225222e-01,\n",
       "           5.20113710e-01,   2.83766021e-01,   5.99782529e-01,\n",
       "           5.27455054e-01,   6.09234259e-01,  -1.12152716e+00,\n",
       "           4.28943015e-01,   4.37206980e-01,  -1.43617373e+00,\n",
       "           2.52212432e-01,   3.92420415e-01]],\n",
       "\n",
       "       [[  9.42957207e-01,   9.83080518e-01,   8.84779414e-01,\n",
       "           9.73260788e-01,   9.92501677e-01,   8.77012416e-01,\n",
       "           9.65553870e-01,   9.55801987e-01,   9.50178702e-01,\n",
       "           9.54307015e-01,   9.63503105e-01,   9.50977570e-01,\n",
       "           9.73102158e-01,   9.91434158e-01,   9.36029237e-01,\n",
       "           9.75282189e-01,   9.66076906e-01,   7.24537777e-01,\n",
       "           9.49593473e-01,   9.51489698e-01],\n",
       "        [ -2.10393176e-02,   6.23067886e-01,   2.96069130e-01,\n",
       "          -1.12010815e-01,   5.77619059e-01,  -4.89345887e-01,\n",
       "           1.78991743e-01,  -7.58624658e-02,   4.61575286e-01,\n",
       "           3.83003342e-01,   7.91277419e-02,   4.85434680e-01,\n",
       "           3.92442212e-01,   4.97586905e-01,  -1.72767778e+00,\n",
       "           2.65783877e-01,   2.76408974e-01,  -2.13222337e+00,\n",
       "           3.85588417e-02,   2.18826247e-01]],\n",
       "\n",
       "       [[  2.25394695e+01,   7.59901688e+01,   1.11587202e+01,\n",
       "           4.80834767e+01,   1.71466901e+02,   1.04540169e+01,\n",
       "           3.73253623e+01,   2.90898664e+01,   2.58065195e+01,\n",
       "           2.81381113e+01,   3.52280454e+01,   2.62270615e+01,\n",
       "           4.77999054e+01,   1.50097824e+02,   2.00984674e+01,\n",
       "           5.20157028e+01,   3.79008553e+01,   4.66747952e+00,\n",
       "           2.55069007e+01,   2.65039429e+01],\n",
       "        [  1.25922113e+00,   3.41099694e+00,   1.82647806e+00,\n",
       "           1.15620664e+00,   3.04396851e+00,   8.63274473e-01,\n",
       "           1.56601870e+00,   1.19505450e+00,   2.38791841e+00,\n",
       "           2.08382698e+00,   1.39619179e+00,   2.49864154e+00,\n",
       "           2.11620081e+00,   2.55907797e+00,   4.71358566e-01,\n",
       "           1.75113872e+00,   1.77685217e+00,   4.10479757e-01,\n",
       "           1.33727818e+00,   1.64587492e+00]],\n",
       "\n",
       "       [[  1.25075038e+01,   1.22729928e+01,   1.27170989e+01,\n",
       "           1.23831341e+01,   1.18546854e+01,   1.27832301e+01,\n",
       "           1.23596336e+01,   1.23994756e+01,   1.27851899e+01,\n",
       "           1.26991289e+01,   1.25188595e+01,   1.28428704e+01,\n",
       "           1.23265022e+01,   1.16889151e+01,   1.18975534e+01,\n",
       "           1.21539396e+01,   1.23196921e+01,   1.30609445e+01,\n",
       "           1.25455464e+01,   1.22132350e+01],\n",
       "        [  2.24076569e+01,   2.15379449e+01,   1.19619704e+01,\n",
       "           4.07947713e+01,   2.38565221e+01,   1.99882110e+01,\n",
       "           2.47860846e+01,   2.61854611e+01,   1.83546840e+01,\n",
       "           2.06225860e+01,   2.99864188e+01,   1.85649742e+01,\n",
       "           2.29819190e+01,   1.49275057e+01,   2.10054910e+01,\n",
       "           2.36458097e+01,   2.18137736e+01,   2.22073709e+01,\n",
       "           2.43011174e+01,   1.58824332e+01]],\n",
       "\n",
       "       [[  1.00000000e+00,   1.00000000e+00,   1.00000000e+00,\n",
       "           1.00000000e+00,   1.00000000e+00,   1.00000000e+00,\n",
       "           1.00000000e+00,   1.00000000e+00,   1.00000000e+00,\n",
       "           1.00000000e+00,   1.00000000e+00,   1.00000000e+00,\n",
       "           1.00000000e+00,   1.00000000e+00,   1.00000000e+00,\n",
       "           1.00000000e+00,   1.00000000e+00,   1.00000000e+00,\n",
       "           1.00000000e+00,   1.00000000e+00],\n",
       "        [  1.18995325e+01,   1.62779939e+01,   1.09419269e-01,\n",
       "           3.55872692e+01,   5.03300509e+01,   6.10972553e+00,\n",
       "           1.78345572e+01,   1.83418742e+01,   4.80711945e+00,\n",
       "           7.50309385e+00,   1.92315231e+01,   4.49652821e+00,\n",
       "           1.65876037e+01,   5.26530873e+01,   3.66394444e+01,\n",
       "           2.37039304e+01,   1.53303368e+01,   5.37079099e+00,\n",
       "           1.30737432e+01,   1.01032546e+01]]])"
      ]
     },
     "execution_count": 15,
     "metadata": {},
     "output_type": "execute_result"
    }
   ],
   "source": [
    "info.get_result()"
   ]
  },
  {
   "cell_type": "code",
   "execution_count": 16,
   "metadata": {
    "collapsed": false,
    "deletable": true,
    "editable": true
   },
   "outputs": [
    {
     "data": {
      "text/plain": [
       "array([[  0.89214448,  18.30514359],\n",
       "       [  0.97313096,   0.44869725],\n",
       "       [  0.96545409,   0.29118218],\n",
       "       [ 37.21755089,   1.8138854 ],\n",
       "       [ 12.40506995,  22.91031378],\n",
       "       [  1.        ,  14.51813801]])"
      ]
     },
     "execution_count": 16,
     "metadata": {},
     "output_type": "execute_result"
    }
   ],
   "source": [
    "info.get_quality()"
   ]
  },
  {
   "cell_type": "code",
   "execution_count": 17,
   "metadata": {
    "collapsed": false,
    "deletable": true,
    "editable": true
   },
   "outputs": [
    {
     "data": {
      "text/plain": [
       "array([[  1.        ,   1.        ,   1.        ,   1.        ,\n",
       "          1.        ,   1.        ,   1.        ,   1.        ,\n",
       "          1.        ,   1.        ,   1.        ,   1.        ,\n",
       "          1.        ,   1.        ,   1.        ,   1.        ,\n",
       "          1.        ,   1.        ,   1.        ,   1.        ],\n",
       "       [ 11.89953246,  16.27799386,   0.10941927,  35.58726923,\n",
       "         50.33005088,   6.10972553,  17.83455718,  18.34187417,\n",
       "          4.80711945,   7.50309385,  19.23152313,   4.49652821,\n",
       "         16.58760373,  52.65308729,  36.63944444,  23.70393039,\n",
       "         15.3303368 ,   5.37079099,  13.07374321,  10.10325465]])"
      ]
     },
     "execution_count": 17,
     "metadata": {},
     "output_type": "execute_result"
    }
   ],
   "source": [
    "info.result_by_name(\"Mallow's Cp\")"
   ]
  },
  {
   "cell_type": "code",
   "execution_count": null,
   "metadata": {
    "collapsed": true,
    "deletable": true,
    "editable": true
   },
   "outputs": [],
   "source": []
  },
  {
   "cell_type": "code",
   "execution_count": null,
   "metadata": {
    "collapsed": true,
    "deletable": true,
    "editable": true
   },
   "outputs": [],
   "source": []
  },
  {
   "cell_type": "code",
   "execution_count": null,
   "metadata": {
    "collapsed": true,
    "deletable": true,
    "editable": true
   },
   "outputs": [],
   "source": []
  }
 ],
 "metadata": {
  "kernelspec": {
   "display_name": "Python 3",
   "language": "python",
   "name": "python3"
  },
  "language_info": {
   "codemirror_mode": {
    "name": "ipython",
    "version": 3
   },
   "file_extension": ".py",
   "mimetype": "text/x-python",
   "name": "python",
   "nbconvert_exporter": "python",
   "pygments_lexer": "ipython3",
   "version": "3.5.3"
  }
 },
 "nbformat": 4,
 "nbformat_minor": 2
}
