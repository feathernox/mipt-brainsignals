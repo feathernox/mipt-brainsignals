{
 "cells": [
  {
   "cell_type": "code",
   "execution_count": 1,
   "metadata": {},
   "outputs": [
    {
     "name": "stdout",
     "output_type": "stream",
     "text": [
      "<function condition_number_xtx at 0x7fe0140262f0>\n"
     ]
    }
   ],
   "source": [
    "from evaluate_info import *"
   ]
  },
  {
   "cell_type": "code",
   "execution_count": 2,
   "metadata": {},
   "outputs": [
    {
     "data": {
      "text/plain": [
       "\"Mallow's Cp\""
      ]
     },
     "execution_count": 2,
     "metadata": {},
     "output_type": "execute_result"
    }
   ],
   "source": [
    "str(Cp())"
   ]
  },
  {
   "cell_type": "code",
   "execution_count": 3,
   "metadata": {},
   "outputs": [],
   "source": [
    "c = Condition_Number()\n",
    "#c.evaluate(model)"
   ]
  },
  {
   "cell_type": "code",
   "execution_count": 4,
   "metadata": {
    "collapsed": true
   },
   "outputs": [],
   "source": [
    "from sklearn.linear_model import LinearRegression\n",
    "mo = LinearRegression()"
   ]
  },
  {
   "cell_type": "code",
   "execution_count": 5,
   "metadata": {},
   "outputs": [
    {
     "name": "stdout",
     "output_type": "stream",
     "text": [
      "[ 1.  0.  0.  0.  1.]\n"
     ]
    }
   ],
   "source": [
    "import scipy.stats as sps\n",
    "\n",
    "XX = sps.norm.rvs(size=(10, 5))\n",
    "X2 = sps.norm.rvs(size=(10, 5))\n",
    "zz = sps.uniform.rvs(size=(5, 3))\n",
    "yy = XX @ zz + sps.norm.rvs(scale=0.1, size=(10, 3))\n",
    "y2 = X2 @ zz + sps.norm.rvs(scale=0.1, size=(10, 3))\n",
    "maskk = np.ones(XX.shape[1])\n",
    "maskk[2]=0\n",
    "maskk[1] = 0\n",
    "maskk[3] = 0\n",
    "print(maskk)\n",
    "\n",
    "metric1 = RSS()\n",
    "metric2 = Adjusted_Determination_Coefficient()\n",
    "metric3 = Determination_Coefficient()\n",
    "metric4 = VIF()\n",
    "metric5 = BIC()\n",
    "char1 = Condition_Number()\n",
    "comp1 = Cp()"
   ]
  },
  {
   "cell_type": "code",
   "execution_count": 6,
   "metadata": {},
   "outputs": [],
   "source": [
    "info = EvaluateDynamicInfo(mo, [metric1, metric2, metric3, metric4, metric5],\n",
    "                           [comp1])#, [char1])"
   ]
  },
  {
   "cell_type": "code",
   "execution_count": 7,
   "metadata": {},
   "outputs": [],
   "source": [
    "info.fit(list(XX), list(yy), list(X2), list(y2))#, masks=[np.ones(len(XX.T)), maskk])"
   ]
  },
  {
   "cell_type": "code",
   "execution_count": 8,
   "metadata": {},
   "outputs": [
    {
     "data": {
      "text/plain": [
       "array([[[  1.94024082e-01,   1.29335212e+01,   1.34309134e-01,\n",
       "           6.62318798e-01,   7.23853506e-01,   8.15233565e-01,\n",
       "           5.27446719e+01,   1.13851103e+00,   1.22976600e-01,\n",
       "           3.09436312e-01,   2.81903302e-01,   7.16350733e-01,\n",
       "           1.68541827e-01,   2.12027083e-01,   2.16168324e-01,\n",
       "           2.40860882e-01,   5.83657576e+01,   5.66945205e-01,\n",
       "           1.71724669e-01,   9.74975852e+00]],\n",
       "\n",
       "       [[  9.96570257e-01,   7.71375545e-01,   9.97625832e-01,\n",
       "           9.88292262e-01,   9.87204520e-01,   9.85589205e-01,\n",
       "           6.76381452e-02,   9.79874664e-01,   9.97826156e-01,\n",
       "           9.94530128e-01,   9.95016826e-01,   9.87337146e-01,\n",
       "           9.97020704e-01,   9.96252020e-01,   9.96178816e-01,\n",
       "           9.95742328e-01,  -3.17251785e-02,   9.89978171e-01,\n",
       "           9.96964442e-01,   8.27654574e-01]],\n",
       "\n",
       "       [[  9.95590331e-01,   7.06054273e-01,   9.96947498e-01,\n",
       "           9.84947194e-01,   9.83548668e-01,   9.81471834e-01,\n",
       "          -1.98750956e-01,   9.74124568e-01,   9.97205058e-01,\n",
       "           9.92967307e-01,   9.93593062e-01,   9.83719187e-01,\n",
       "           9.96169477e-01,   9.95181169e-01,   9.95087049e-01,\n",
       "           9.94525851e-01,  -3.26503801e-01,   9.87114791e-01,\n",
       "           9.96097139e-01,   7.78413024e-01]],\n",
       "\n",
       "       [[  2.91567062e+02,   4.37398528e+00,   4.21200182e+02,\n",
       "           8.54135979e+01,   7.81525973e+01,   6.93924220e+01,\n",
       "           1.07254495e+00,   4.96886109e+01,   4.60014602e+02,\n",
       "           1.82819628e+02,   2.00675307e+02,   7.89711365e+01,\n",
       "           3.35649805e+02,   2.66810403e+02,   2.61698987e+02,\n",
       "           2.34870150e+02,   9.69250359e-01,   9.97821853e+01,\n",
       "           3.29428683e+02,   5.80230079e+00]],\n",
       "\n",
       "       [[  1.17069495e+01,   2.44464467e+01,   1.16472346e+01,\n",
       "           1.21752443e+01,   1.22367790e+01,   1.23281590e+01,\n",
       "           6.42575973e+01,   1.26514365e+01,   1.16359021e+01,\n",
       "           1.18223618e+01,   1.17948288e+01,   1.22292762e+01,\n",
       "           1.16814673e+01,   1.17249525e+01,   1.17290938e+01,\n",
       "           1.17537863e+01,   6.98786831e+01,   1.20798707e+01,\n",
       "           1.16846501e+01,   2.12626840e+01]],\n",
       "\n",
       "       [[  4.43525114e-01,   2.95651004e+01,   3.07021031e-01,\n",
       "           1.51401320e+00,   1.65467712e+00,   1.86356537e+00,\n",
       "           1.20570531e+02,   2.60255443e+00,   2.81115673e-01,\n",
       "           7.07349181e-01,   6.44410697e-01,   1.63752632e+00,\n",
       "           3.85274510e-01,   4.84678682e-01,   4.94145261e-01,\n",
       "           5.50590675e-01,   1.33419929e+02,   1.29599601e+00,\n",
       "           3.92550257e-01,   2.22872476e+01]]])"
      ]
     },
     "execution_count": 8,
     "metadata": {},
     "output_type": "execute_result"
    }
   ],
   "source": [
    "info.get_result()"
   ]
  },
  {
   "cell_type": "code",
   "execution_count": 9,
   "metadata": {},
   "outputs": [
    {
     "data": {
      "text/plain": [
       "array([[   0.43745907],\n",
       "       [   0.99226708],\n",
       "       [   0.99005768],\n",
       "       [ 129.31731429],\n",
       "       [  11.95038453],\n",
       "       [   1.        ]])"
      ]
     },
     "execution_count": 9,
     "metadata": {},
     "output_type": "execute_result"
    }
   ],
   "source": [
    "info.get_quality()"
   ]
  },
  {
   "cell_type": "code",
   "execution_count": 10,
   "metadata": {},
   "outputs": [
    {
     "data": {
      "text/plain": [
       "array([[   0.44352511,   29.56510045,    0.30702103,    1.5140132 ,\n",
       "           1.65467712,    1.86356537,  120.57053101,    2.60255443,\n",
       "           0.28111567,    0.70734918,    0.6444107 ,    1.63752632,\n",
       "           0.38527451,    0.48467868,    0.49414526,    0.55059067,\n",
       "         133.41992917,    1.29599601,    0.39255026,   22.2872476 ]])"
      ]
     },
     "execution_count": 10,
     "metadata": {},
     "output_type": "execute_result"
    }
   ],
   "source": [
    "info.result_by_name(\"Mallow's Cp\")"
   ]
  },
  {
   "cell_type": "code",
   "execution_count": 11,
   "metadata": {},
   "outputs": [
    {
     "data": {
      "text/plain": [
       "{'Adj Det Coef': array([[   0.44352511,   29.56510045,    0.30702103,    1.5140132 ,\n",
       "            1.65467712,    1.86356537,  120.57053101,    2.60255443,\n",
       "            0.28111567,    0.70734918,    0.6444107 ,    1.63752632,\n",
       "            0.38527451,    0.48467868,    0.49414526,    0.55059067,\n",
       "          133.41992917,    1.29599601,    0.39255026,   22.2872476 ]]),\n",
       " 'BIC': array([[ 0.99657026,  0.77137555,  0.99762583,  0.98829226,  0.98720452,\n",
       "          0.9855892 ,  0.06763815,  0.97987466,  0.99782616,  0.99453013,\n",
       "          0.99501683,  0.98733715,  0.9970207 ,  0.99625202,  0.99617882,\n",
       "          0.99574233, -0.03172518,  0.98997817,  0.99696444,  0.82765457]]),\n",
       " 'Det Coef': array([[  0.19402408,  12.93352123,   0.13430913,   0.6623188 ,\n",
       "           0.72385351,   0.81523356,  52.74467187,   1.13851103,\n",
       "           0.1229766 ,   0.30943631,   0.2819033 ,   0.71635073,\n",
       "           0.16854183,   0.21202708,   0.21616832,   0.24086088,\n",
       "          58.36575759,   0.56694521,   0.17172467,   9.74975852]]),\n",
       " \"Mallow's Cp\": array([[ 11.70694955,  24.44644669,  11.6472346 ,  12.17524426,\n",
       "          12.23677897,  12.32815903,  64.25759734,  12.65143649,\n",
       "          11.63590206,  11.82236178,  11.79482877,  12.2292762 ,\n",
       "          11.68146729,  11.72495255,  11.72909379,  11.75378635,\n",
       "          69.87868306,  12.07987067,  11.68465013,  21.26268398]]),\n",
       " 'RSS': array([[ 291.56706181,    4.37398528,  421.20018212,   85.41359792,\n",
       "           78.15259729,   69.39242197,    1.07254495,   49.68861088,\n",
       "          460.01460179,  182.81962833,  200.67530678,   78.97113653,\n",
       "          335.64980499,  266.81040281,  261.69898704,  234.87014986,\n",
       "            0.96925036,   99.78218528,  329.42868294,    5.80230079]]),\n",
       " 'VIF': array([[ 0.99559033,  0.70605427,  0.9969475 ,  0.98494719,  0.98354867,\n",
       "          0.98147183, -0.19875096,  0.97412457,  0.99720506,  0.99296731,\n",
       "          0.99359306,  0.98371919,  0.99616948,  0.99518117,  0.99508705,\n",
       "          0.99452585, -0.3265038 ,  0.98711479,  0.99609714,  0.77841302]])}"
      ]
     },
     "execution_count": 11,
     "metadata": {},
     "output_type": "execute_result"
    }
   ],
   "source": [
    "info.get_mapped_result()"
   ]
  },
  {
   "cell_type": "code",
   "execution_count": null,
   "metadata": {
    "collapsed": true
   },
   "outputs": [],
   "source": []
  },
  {
   "cell_type": "code",
   "execution_count": null,
   "metadata": {
    "collapsed": true
   },
   "outputs": [],
   "source": []
  },
  {
   "cell_type": "code",
   "execution_count": null,
   "metadata": {
    "collapsed": true
   },
   "outputs": [],
   "source": []
  }
 ],
 "metadata": {
  "kernelspec": {
   "display_name": "Python 3",
   "language": "python",
   "name": "python3"
  },
  "language_info": {
   "codemirror_mode": {
    "name": "ipython",
    "version": 3
   },
   "file_extension": ".py",
   "mimetype": "text/x-python",
   "name": "python",
   "nbconvert_exporter": "python",
   "pygments_lexer": "ipython3",
   "version": "3.6.3"
  }
 },
 "nbformat": 4,
 "nbformat_minor": 2
}
