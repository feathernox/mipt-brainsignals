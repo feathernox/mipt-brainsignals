{
 "cells": [
  {
   "cell_type": "code",
   "execution_count": 2,
   "metadata": {
    "collapsed": false
   },
   "outputs": [],
   "source": [
    "% run qpfs_class_draft.ipynb"
   ]
  },
  {
   "cell_type": "code",
   "execution_count": 5,
   "metadata": {
    "collapsed": false
   },
   "outputs": [
    {
     "name": "stdout",
     "output_type": "stream",
     "text": [
      "<function condition_number_xtx at 0x7fcd66ff3598>\n",
      "[ 1.  0.  0.  0.  1.]\n",
      "{\"Mallow's Cp\": 5, 'RSS': 0, 'Adj Det Coef': 1, 'BIC': 4, 'VIF': 3, 'Det Coef': 2}\n"
     ]
    }
   ],
   "source": [
    "% run Analysys\\ Draft.ipynb"
   ]
  },
  {
   "cell_type": "code",
   "execution_count": 3,
   "metadata": {
    "collapsed": true
   },
   "outputs": [],
   "source": [
    "class Selector():\n",
    "    def __init__(self, algo):\n",
    "        self.algo = algo\n",
    "    def fit(self, X, y):\n",
    "        self.algo.fit(X, y)\n",
    "    def select(num_features):\n",
    "        return self.algo.select(num_features)"
   ]
  },
  {
   "cell_type": "code",
   "execution_count": 6,
   "metadata": {
    "collapsed": true
   },
   "outputs": [],
   "source": [
    "class ModelQuality():\n",
    "    def __init(self, selector, model):\n",
    "        self.model = model\n",
    "        self.selector = selector\n",
    "    def fit(self, X, y, ns_features=None):\n",
    "        if ns_features is None:\n",
    "            ns_features = np.arange(X.shape[1])\n",
    "        self.masks = np.zeros((len(ns_features), X.shape[1]), dtype=np.bool)\n",
    "        self.selector.fit(X, y)\n",
    "        for (i, num) in enumerate(features):\n",
    "            cur_features = self.selector.select(num)\n",
    "            self.masks[i][cur_features] = True\n",
    "    def evaluate(self, metrics = [], comparisons = [], characteristics = []):\n",
    "        self.evaluate_info = EvaluateInfo(self, model, metrics, comparisons, characteristics)\n",
    "        # разделить на трейн и тест, запустить, посчитать метрики и качество\n",
    "        #self.evaluate_info.fit()\n",
    "        \n",
    "        \n",
    "            "
   ]
  },
  {
   "cell_type": "code",
   "execution_count": null,
   "metadata": {
    "collapsed": true
   },
   "outputs": [],
   "source": []
  }
 ],
 "metadata": {
  "kernelspec": {
   "display_name": "Python 3",
   "language": "python",
   "name": "python3"
  },
  "language_info": {
   "codemirror_mode": {
    "name": "ipython",
    "version": 3
   },
   "file_extension": ".py",
   "mimetype": "text/x-python",
   "name": "python",
   "nbconvert_exporter": "python",
   "pygments_lexer": "ipython3",
   "version": "3.5.3"
  }
 },
 "nbformat": 4,
 "nbformat_minor": 2
}
